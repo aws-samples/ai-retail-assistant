{
 "cells": [
  {
   "cell_type": "markdown",
   "id": "6ed1d0d5-82c8-4a16-b96b-209e8f31aeea",
   "metadata": {},
   "source": [
    "# 3. Creating functions for handling retail user interactions"
   ]
  },
  {
   "cell_type": "markdown",
   "id": "6f31ba3e-2a26-477c-afc9-870c1612426b",
   "metadata": {},
   "source": [
    "This notebook walks you through implementing RAG with the database that we have created using Claude 3 models. \n",
    "\n",
    "Firstly, we create functions to deal with product images and use an LLM to select the best product image for display based on the product title. This helps to address scenarios where products come with images of material closeups and/or size charts, along with images of models wearing the product, and we want to pick the images from which users can get the most insights on the product at one glance as the thumbnail image.\n",
    "\n",
    "Secondly, we create a function that uses an LLM to construct a search query for use with Bedrock knowledge base, using an LLM to refine the search query based on user input and feedback, as well as selected product information. This allows for users to give input based on visual cues e.g. \"I want something like this shirt but in black\". "
   ]
  },
  {
   "cell_type": "markdown",
   "id": "a0be2138-1519-4220-b190-55282e53c996",
   "metadata": {},
   "source": [
    "3.0. [Set up](#3.0)\n",
    "\n",
    "3.1. [Test and use the Bedrock Knowledge Base Retrieve API](#3.1)\n",
    "\n",
    "3.2. [Create functions to handle product images](#3.2)\n",
    "\n",
    "3.3. [Translate user input into more relevant product search results](#3.3)"
   ]
  },
  {
   "cell_type": "markdown",
   "id": "038fa404-8cb5-4706-b794-d256cf69b1fa",
   "metadata": {},
   "source": [
    "## <a id=\"3.0\">Set up<a>"
   ]
  },
  {
   "cell_type": "code",
   "execution_count": null,
   "id": "6303df1d-3951-47ce-aa85-14175d1e637d",
   "metadata": {},
   "outputs": [],
   "source": [
    "# run this cell to upgrade to the latest version of boto3 if required, and restart the kernel\n",
    "!pip install --upgrade --force --quiet botocore boto3"
   ]
  },
  {
   "cell_type": "code",
   "execution_count": null,
   "id": "d06db9d0-3833-4ee5-bed3-5270dced0eb5",
   "metadata": {
    "tags": []
   },
   "outputs": [],
   "source": [
    "%load_ext autoreload\n",
    "%autoreload 2"
   ]
  },
  {
   "cell_type": "code",
   "execution_count": null,
   "id": "07ee5ac5-1431-470e-96f9-66eefa71a637",
   "metadata": {
    "tags": []
   },
   "outputs": [],
   "source": [
    "import boto3\n",
    "import sagemaker\n",
    "\n",
    "import pandas as pd\n",
    "import ast\n",
    "import json"
   ]
  },
  {
   "cell_type": "markdown",
   "id": "d29c48a8-c202-4cde-b280-4c00aafcb531",
   "metadata": {},
   "source": [
    "<div class=\"alert alert-block alert-warning\">\n",
    "\n",
    "IMPORTANT! Please copy and paste the required information for your <b>RDS Aurora PostgreSQL database</b> in the cell below.\n",
    "    \n",
    "</div>"
   ]
  },
  {
   "cell_type": "code",
   "execution_count": null,
   "id": "44012718-4c7f-4ade-8c15-6436b4e80cde",
   "metadata": {
    "tags": []
   },
   "outputs": [],
   "source": [
    "sess = sagemaker.Session()\n",
    "bucket = sess.default_bucket()\n",
    "region = sess.boto_region_name\n",
    "accountid = sess.account_id()\n",
    "product_db_data_path = 'amazon-reviews-fashion-metadata'\n",
    "bedrock_kb_data_path = 'bedrock-kb-data'\n",
    "bedrock_kb_datasource_uri = f's3://{bucket}/{bedrock_kb_data_path}/'\n",
    "\n",
    "database_identifier='<TODO>'\n",
    "database_arn='<TODO>'\n",
    "database_secret_arn='<TODO>'\n",
    "database_name='<TODO>'"
   ]
  },
  {
   "cell_type": "code",
   "execution_count": null,
   "id": "b5819496-0de9-4f48-b14a-85b9576d3838",
   "metadata": {},
   "outputs": [],
   "source": [
    "%mkdir -p util"
   ]
  },
  {
   "cell_type": "code",
   "execution_count": null,
   "id": "f490a82b-f866-43df-b805-cb9438312c38",
   "metadata": {
    "tags": []
   },
   "outputs": [],
   "source": [
    "# OPTIONAL\n",
    "items = pd.read_csv('items.txt', sep='|', index_col=False, \n",
    "                    names=['asin',\t'title', 'brand', 'price', 'description', 'image'])\n",
    "items"
   ]
  },
  {
   "cell_type": "markdown",
   "id": "573a0cb3-b9f3-412b-9cf2-f09355446187",
   "metadata": {},
   "source": [
    "## 3.1 <a id=\"3.1\">Test and use the Bedrock Knowledge Base Retrieve API<a>"
   ]
  },
  {
   "cell_type": "markdown",
   "id": "adc4ad58-2811-4067-a3a0-85dca14a82cb",
   "metadata": {},
   "source": [
    "### Run a test query"
   ]
  },
  {
   "cell_type": "markdown",
   "id": "ed0fdc81-c165-4de2-9d4d-51fac17e5d76",
   "metadata": {},
   "source": [
    "<div class=\"alert alert-block alert-warning\">\n",
    "\n",
    "IMPORTANT! Please copy and paste the <b>Bedrock Knowledge Base ID</b> for the knowledge base that you are using in the cell below.\n",
    "    \n",
    "</div>"
   ]
  },
  {
   "cell_type": "code",
   "execution_count": null,
   "id": "c0af83d2-420e-43ec-8f59-781fad772540",
   "metadata": {},
   "outputs": [],
   "source": [
    "bedrock_kb_id = '<TODO>'"
   ]
  },
  {
   "cell_type": "code",
   "execution_count": null,
   "id": "a9b143c8-6be5-444f-bf72-f321832177c3",
   "metadata": {
    "scrolled": true,
    "tags": []
   },
   "outputs": [],
   "source": [
    "from util.bedrockkb import bedrock_kb_retrieve\n",
    "\n",
    "search_query = 'shoes for women'\n",
    "no_kb_results = 3\n",
    "search_list = bedrock_kb_retrieve(bedrock_kb_id, search_query, no_kb_results)"
   ]
  },
  {
   "cell_type": "code",
   "execution_count": null,
   "id": "886a59ce-43df-42b6-bbb6-a6bccda68507",
   "metadata": {
    "tags": []
   },
   "outputs": [],
   "source": [
    "search_list"
   ]
  },
  {
   "cell_type": "markdown",
   "id": "cff4797c-c6c8-4fce-a7b7-bebf290f2d14",
   "metadata": {},
   "source": [
    "### Create a wrapper to extract a list of asin from the output of the Bedrock knowledge base Retrieve API call"
   ]
  },
  {
   "cell_type": "code",
   "execution_count": null,
   "id": "224833ba-d2f7-4c3c-8a45-9c991aa8e912",
   "metadata": {
    "tags": []
   },
   "outputs": [],
   "source": [
    "%%writefile util/getasinlist.py\n",
    "\n",
    "def get_asin_list(search_list): \n",
    "    if type(search_list) == list:\n",
    "        asin_list=[]\n",
    "        for search_item in search_list:\n",
    "            asin_list.append(search_item['location']['s3Location']['uri'].split('/')[-1].split('.')[0])\n",
    "        return asin_list\n",
    "    elif type(search_list) == str:\n",
    "        search_item = search_list['location']['s3Location']['uri'].split('/')[-1].split('.')[0]\n",
    "        return ('['+str(search_item)+']').tolist()\n",
    "    else:\n",
    "        return None"
   ]
  },
  {
   "cell_type": "code",
   "execution_count": null,
   "id": "dfa1de58-9849-4819-b893-a276a819ce06",
   "metadata": {
    "tags": []
   },
   "outputs": [],
   "source": [
    "# For local notebook processing only\n",
    "\n",
    "# Get product image URL from dataframe using asin\n",
    "def get_img_url_from_df(asin, df):\n",
    "    try: \n",
    "        return ast.literal_eval(str(\"['\"+df[df['asin']==asin].to_dict('records')[0]['image']+\"']\"))\n",
    "    except:\n",
    "        print('No image found.')\n",
    "\n",
    "# Get product title from dataframe using asin\n",
    "def get_title_from_df(asin, df):\n",
    "    return str(\"['\"+df[df['asin']==asin].to_dict('records')[0]['title']+\"']\")"
   ]
  },
  {
   "cell_type": "code",
   "execution_count": null,
   "id": "53389866-90ca-465e-9e0a-29456dd747dc",
   "metadata": {
    "tags": []
   },
   "outputs": [],
   "source": [
    "from util.getasinlist import get_asin_list\n",
    "asin_list=get_asin_list(search_list)\n",
    "asin_list"
   ]
  },
  {
   "cell_type": "markdown",
   "id": "fd0e87c2-a26d-4860-b03c-2628f11d7e22",
   "metadata": {},
   "source": [
    "## 3.2 <a id =\"3.2\">Create functions to handle product images<a>"
   ]
  },
  {
   "cell_type": "markdown",
   "id": "cedecb57-f895-4b3c-8b7c-a854a713f816",
   "metadata": {
    "tags": []
   },
   "source": [
    "### Create a function to display images returned from product image URLs"
   ]
  },
  {
   "cell_type": "code",
   "execution_count": null,
   "id": "57f8d94d-08c8-4604-a06d-53d805b42135",
   "metadata": {
    "tags": []
   },
   "outputs": [],
   "source": [
    "%%writefile util/gallery.py\n",
    "from IPython.display import HTML, Image\n",
    "\n",
    "def gallery(images, row_height='200px'):\n",
    "    \"\"\"Shows a set of images in a gallery that flexes with the width of the notebook.\n",
    "    \n",
    "    Parameters\n",
    "    ----------\n",
    "    images: list of str or bytes\n",
    "        URLs or bytes of images to display\n",
    "\n",
    "    row_height: str\n",
    "        CSS height value to assign to all images. Set to 'auto' by default to show images\n",
    "        with their native dimensions. Set to a value like '250px' to make all rows\n",
    "        in the gallery equal height.\n",
    "    \"\"\"\n",
    "    if images:\n",
    "        figures = []\n",
    "        for image in images:\n",
    "            src = image\n",
    "            caption = f'<figcaption style=\"font-size: 0.6em\">{image}</figcaption>'\n",
    "            figures.append(f'''\n",
    "                <figure style=\"margin: 5px !important;\">\n",
    "                  <img src=\"{src}\" style=\"height: {row_height}\">\n",
    "                  {caption}\n",
    "                </figure>\n",
    "            ''')\n",
    "        return HTML(data=f'''\n",
    "            <div style=\"display: flex; flex-flow: row wrap; text-align: center;\">\n",
    "            {''.join(figures)}\n",
    "            </div>\n",
    "        ''')\n",
    "    else:\n",
    "        return None"
   ]
  },
  {
   "cell_type": "code",
   "execution_count": null,
   "id": "eec2c9f8-5110-485a-abee-d82fcec35f64",
   "metadata": {
    "tags": []
   },
   "outputs": [],
   "source": [
    "asin = asin_list[0]\n",
    "url=get_img_url_from_df(asin, items)\n",
    "url"
   ]
  },
  {
   "cell_type": "code",
   "execution_count": null,
   "id": "f9ced64f-a6ea-4b19-9642-a6af3630ac2a",
   "metadata": {
    "tags": []
   },
   "outputs": [],
   "source": [
    "from util.gallery import gallery\n",
    "\n",
    "gallery(url)"
   ]
  },
  {
   "cell_type": "markdown",
   "id": "64b199ce-b713-4768-92ee-2b275deccbc9",
   "metadata": {},
   "source": [
    "### Add helpers to process images from URL and/or handle bytes to string conversion"
   ]
  },
  {
   "cell_type": "code",
   "execution_count": null,
   "id": "886698e3-ecfc-4b32-93ee-f591344b1cca",
   "metadata": {
    "tags": []
   },
   "outputs": [],
   "source": [
    "%%writefile util/imagehelpers.py\n",
    "\n",
    "import requests\n",
    "from PIL import Image\n",
    "from io import BytesIO\n",
    "import base64\n",
    "\n",
    "#screen through img URL list for blank or invalid URLs\n",
    "def filter_image_url(img_list):\n",
    "    images = []\n",
    "    for url in img_list:\n",
    "        try:\n",
    "            image = Image.open(requests.get(url, stream=True).raw)\n",
    "            images.append(url)\n",
    "        except:\n",
    "            pass\n",
    "    if len(images) == 0:\n",
    "        return None\n",
    "    else:\n",
    "        return images\n",
    "\n",
    "#check if the image in the URL exists\n",
    "def url_image_processing(imgurl):\n",
    "    imgurl_response = requests.get(imgurl)\n",
    "    imgurl_bytes = BytesIO(imgurl_response.content)\n",
    "    imgurl_bytes.seek(0)\n",
    "    return imgurl_bytes.read()\n",
    "\n",
    "#get a BytesIO object from file bytes\n",
    "def get_bytesio_from_bytes(image_bytes):\n",
    "    image_io = BytesIO(image_bytes)\n",
    "    return image_io\n",
    "\n",
    "#get a base64-encoded string from file bytes\n",
    "def get_base64_from_bytes(image_bytes):\n",
    "    resized_io = get_bytesio_from_bytes(image_bytes)\n",
    "    img_str = base64.b64encode(resized_io.getvalue()).decode(\"utf-8\")\n",
    "    return img_str"
   ]
  },
  {
   "cell_type": "markdown",
   "id": "73785902-806b-488d-9fba-fd2e3ee4c676",
   "metadata": {},
   "source": [
    "### Create an image picker to pick the most suitable image based on the product title\n",
    "\n",
    "This is to address situations where the merchants upload images of size charts instead of attractive product images. The recommended approach for doing this in practice would be to perform a batch inference for each product and store the best image in a database table rather than doing it using real time inference with an API call."
   ]
  },
  {
   "cell_type": "code",
   "execution_count": null,
   "id": "7e3c3c2a-6b74-41e5-8307-b260ee5e33ec",
   "metadata": {
    "tags": []
   },
   "outputs": [],
   "source": [
    "%%writefile util/pickimg.py\n",
    "\n",
    "import boto3\n",
    "import ast, json\n",
    "from util.imagehelpers import *\n",
    "\n",
    "def pick_img(text_input, img_list):\n",
    "    model_id = \"anthropic.claude-3-sonnet-20240229-v1:0\"\n",
    "    bedrock = boto3.client(service_name='bedrock-runtime')\n",
    "\n",
    "    accept = \"application/json\"\n",
    "    content_type = \"application/json\"\n",
    "    \n",
    "    def set_default(obj):\n",
    "        if isinstance(obj, set):\n",
    "            return list(obj)\n",
    "        raise TypeError\n",
    "    \n",
    "    system_prompt = \"\"\"\n",
    "    Based on the user's text and images, select and output the identifier for the image that best matches the text and is most visually appealing to shoppers.\n",
    "    Please output only the image number enclosed in a python array and nothing else.\"\"\"\n",
    "    \n",
    "    content = [\n",
    "                    {\n",
    "                        \"type\": \"text\",\n",
    "                        \"text\": text_input\n",
    "                    }\n",
    "                ]\n",
    "    \n",
    "    img_list = filter_image_url(img_list)\n",
    "    \n",
    "    if img_list == None:\n",
    "        return None\n",
    "    \n",
    "    for img in img_list:\n",
    "        image_data = get_base64_from_bytes(url_image_processing(img))\n",
    "        content.append({\n",
    "                        \"type\": \"image\",\n",
    "                        \"source\": {\n",
    "                            \"type\": \"base64\",\n",
    "                            \"media_type\": \"image/jpeg\",\n",
    "                            \"data\": image_data,\n",
    "                        }\n",
    "        })\n",
    "        \n",
    "    messages = [{\n",
    "                \"role\": \"user\",\n",
    "                \"content\": content\n",
    "    }]\n",
    "        \n",
    "    body = json.dumps({\n",
    "        \"anthropic_version\": \"bedrock-2023-05-31\",\n",
    "        \"max_tokens\": 10,\n",
    "        \"temperature\":0,\n",
    "        \"system\": system_prompt,\n",
    "        \"messages\": messages\n",
    "    }, default=set_default)\n",
    "    \n",
    "    \n",
    "    response = bedrock.invoke_model(body=body, modelId=model_id)\n",
    "    response_body = json.loads(response.get('body').read())['content']\n",
    "    answer = response_body[0]['text']\n",
    "    try:\n",
    "        answer = ast.literal_eval(answer.strip('[]'))\n",
    "    except:\n",
    "        pass\n",
    "    \n",
    "    if (isinstance(answer, int)) and (answer<len(img_list)):\n",
    "        return img_list[answer-1]\n",
    "    else:\n",
    "        return None"
   ]
  },
  {
   "cell_type": "code",
   "execution_count": null,
   "id": "932f5bf4-17a7-4378-a51c-1476c54023a9",
   "metadata": {
    "tags": []
   },
   "outputs": [],
   "source": [
    "from util.pickimg import pick_img\n",
    "\n",
    "#pick the image that best matches the product title\n",
    "title = get_title_from_df(asin, items)\n",
    "ans = pick_img(title, url)\n",
    "product = json.loads(json.dumps({ \"asin\" : asin, \"title\" : title, \"image\" : ans }))\n",
    "print(product)\n",
    "gallery([ans])"
   ]
  },
  {
   "cell_type": "markdown",
   "id": "4c359906-9383-48a7-b495-feb574e43d64",
   "metadata": {},
   "source": [
    "## 3.3 <a id=\"3.3\">Translate user input into more relevant product search results<a>"
   ]
  },
  {
   "cell_type": "markdown",
   "id": "06120127-bd87-4afd-9b45-af84683d53a6",
   "metadata": {},
   "source": [
    "### Create a query refiner\n",
    "\n",
    "The query refiner can help translate user input and/or feedback into a query for interacting with a Bedrock knowledge base. \n",
    "- It can interpret user requests and construct a search query\n",
    "- It can factor in user feedback based on a selected product (e.g. a user can refer to an item that was suggested and ask for something similar in brighter colors), by taking the image URL provided to the user as input.\n",
    "- It can consider the recent search queries (query history) for constructing the new query."
   ]
  },
  {
   "cell_type": "code",
   "execution_count": null,
   "id": "158a16f2-e7cc-4362-ad4d-312d2d4db3e8",
   "metadata": {
    "tags": []
   },
   "outputs": [],
   "source": [
    "%%writefile util/refinequery.py\n",
    "\n",
    "import boto3\n",
    "import json, logging, re\n",
    "from util.imagehelpers import *\n",
    "\n",
    "def refine_query(input_text,query_history=None,product=None,log_level='ERROR'):\n",
    "    \n",
    "    model_id = \"anthropic.claude-3-sonnet-20240229-v1:0\"\n",
    "\n",
    "    bedrock = boto3.client(service_name='bedrock-runtime')\n",
    "\n",
    "    accept = \"application/json\"\n",
    "    content_type = \"application/json\"\n",
    "    \n",
    "    content = [\n",
    "                    {\n",
    "                        \"type\": \"text\",\n",
    "                        \"text\": f\"CURRENT USER QUERY: {input_text}\"\n",
    "                    }\n",
    "                ]\n",
    "    if query_history:\n",
    "        for i, query in enumerate(query_history):\n",
    "                content.append({\n",
    "                            \"type\": \"text\",\n",
    "                            \"text\": f\"PAST USER QUERY: {query}\"\n",
    "                            })\n",
    "                if i==3:\n",
    "                    break\n",
    "\n",
    "    if product:\n",
    "        asin = product['asin']\n",
    "        title = product['title']\n",
    "        img = product['image']\n",
    "        image_data = get_base64_from_bytes(url_image_processing(img))\n",
    "        content.append({\n",
    "                        \"type\": \"text\",\n",
    "                        \"text\": f\"IMAGE title: {title}\"\n",
    "                        })\n",
    "        content.append({\n",
    "                        \"type\": \"image\",\n",
    "                        \"source\": {\n",
    "                            \"type\": \"base64\",\n",
    "                            \"media_type\": \"image/jpeg\",\n",
    "                            \"data\": image_data,\n",
    "                        }\n",
    "        })\n",
    "\n",
    "    messages = [{\n",
    "                \"role\": \"user\",\n",
    "                \"content\": content\n",
    "    }]\n",
    "    \n",
    "\n",
    "    system_prompt = \"\"\"\n",
    "    Your task is to help the user find fashion apparel that they like.\n",
    "    Please only construct and output a descriptive text search query optimized for search with pgvector. Do not output anything else.\n",
    "    Be as descriptive as reasonable and use information from the user input to identify features like age group, gender, color, material etc to help find fashion apparel. \n",
    "    Do not assume or hallucinate.\n",
    "    Always refine the search query by using the CURRENT USER QUERY to update your output, factoring in PAST USER QUERY and IMAGE.\"\"\"\n",
    "    \n",
    "    level = logging.getLevelName(log_level)\n",
    "    logging.basicConfig()\n",
    "    logging.getLogger().setLevel(level)\n",
    "    logger = logging.getLogger(__name__)\n",
    "    logger.info(f\"Messages {messages}\")\n",
    "    \n",
    "    def set_default(obj):\n",
    "        if isinstance(obj, set):\n",
    "            return list(obj)\n",
    "        raise TypeError\n",
    "    \n",
    "    # result = json.dumps(yourdata, default=set_default)\n",
    "    body = json.dumps({\n",
    "        \"anthropic_version\": \"bedrock-2023-05-31\",\n",
    "        \"max_tokens\": 4000,\n",
    "        \"temperature\":0,\n",
    "        \"system\": system_prompt,\n",
    "        \"messages\": messages\n",
    "    }, default=set_default)\n",
    "\n",
    "\n",
    "    response = bedrock.invoke_model(body=body, modelId=model_id)\n",
    "    response_body = json.loads(response.get('body').read())['content']\n",
    "    output_query = str(response_body[0]['text'])\n",
    "    \n",
    "    def clean_text(text):\n",
    "        html_pattern = re.compile('<.*?>')\n",
    "        clean_text = re.sub(html_pattern, '', text)\n",
    "        output_text = str(clean_text).replace(r'/[^a-zA-Z0-9 ]', '').strip()\n",
    "        return output_text\n",
    "    \n",
    "    output_query = clean_text(output_query)\n",
    "    \n",
    "    if query_history:\n",
    "        query_list = [output_query] + query_history\n",
    "        query_list = query_list[:3]\n",
    "    else:\n",
    "        query_list = [output_query]\n",
    "    \n",
    "    return output_query, query_list"
   ]
  },
  {
   "cell_type": "markdown",
   "id": "30fbaa2d-8b2b-4dd2-8924-d88a7538e576",
   "metadata": {},
   "source": [
    "### Testing the query refiner for creating an initial search query"
   ]
  },
  {
   "cell_type": "code",
   "execution_count": null,
   "id": "718b91e1-ff9f-44e1-aa5f-8e6e1383eae8",
   "metadata": {
    "tags": []
   },
   "outputs": [],
   "source": [
    "from util.refinequery import refine_query\n",
    "\n",
    "search_query=\"I want to buy stretchy breathable sports wear for exercise.\"\n",
    "\n",
    "query, query_history=refine_query(search_query)\n",
    "query"
   ]
  },
  {
   "cell_type": "code",
   "execution_count": null,
   "id": "094e6bf7-63c1-413e-bc7a-c63964b40587",
   "metadata": {
    "tags": []
   },
   "outputs": [],
   "source": [
    "search_asin = get_asin_list(bedrock_kb_retrieve(bedrock_kb_id, query, no_kb_results))[0]\n",
    "search_img = get_img_url_from_df(search_asin, items)\n",
    "search_title = get_title_from_df(search_asin, items)\n",
    "print(search_title)\n",
    "gallery(search_img)"
   ]
  },
  {
   "cell_type": "code",
   "execution_count": null,
   "id": "142a55cc-5cdd-4e21-97e5-22e6ed5b5970",
   "metadata": {
    "tags": []
   },
   "outputs": [],
   "source": [
    "best_img = pick_img(search_title, search_img)\n",
    "gallery([best_img])"
   ]
  },
  {
   "cell_type": "markdown",
   "id": "c6a5fa34-72d1-44b7-afa9-6c46fc81826d",
   "metadata": {},
   "source": [
    "### Incorporating user feedback into the search history and search results "
   ]
  },
  {
   "cell_type": "code",
   "execution_count": null,
   "id": "87b1ed5f-4180-40a9-a583-767cf7f082d5",
   "metadata": {
    "tags": []
   },
   "outputs": [],
   "source": [
    "search_product = json.loads(json.dumps({ \"asin\" : search_asin, \"title\" : search_title, \"image\" : best_img}))\n",
    "\n",
    "search_query1=\"I want shirts for men.\"\n",
    "query1, query_history1=refine_query(search_query1, query_history, search_product)\n",
    "query1"
   ]
  },
  {
   "cell_type": "markdown",
   "id": "52120ccc-e6d2-4f1d-bfb3-c4dd31b89bce",
   "metadata": {},
   "source": [
    "### Creating a function to get product information from RDS using the RDS Data API"
   ]
  },
  {
   "cell_type": "code",
   "execution_count": null,
   "id": "ea22bd2c-2ec9-4dee-a3e0-ebb2678abf68",
   "metadata": {
    "tags": []
   },
   "outputs": [],
   "source": [
    "%%writefile util/getinfo.py\n",
    "\n",
    "import boto3\n",
    "import ast, json, re\n",
    "\n",
    "def get_info_from_db(asin, database_arn, database_secret_arn, database_name):\n",
    "    \n",
    "    asin = re.sub(r'\\W+', '', asin)\n",
    "    \n",
    "    query=(\n",
    "        f\"SELECT asin, title, image FROM products WHERE asin='{asin}';\")\n",
    "\n",
    "    rdsdata = boto3.client('rds-data')\n",
    "\n",
    "    response = rdsdata.execute_statement(\n",
    "        resourceArn=database_arn,\n",
    "        secretArn=database_secret_arn,\n",
    "        sql=query,\n",
    "        database=database_name,\n",
    "    )\n",
    "    \n",
    "    info = response['records'][0]\n",
    "    info_image = ast.literal_eval(\"['\"+json.dumps(info[2]['stringValue']).strip('\\\\\\'\"')+\"']\")\n",
    "    \n",
    "    info_dict = {'asin':json.dumps(info[0]['stringValue']),\n",
    "                 'title':json.dumps(info[1]['stringValue']),\n",
    "                 'image':info_image}\n",
    "        \n",
    "    return info_dict"
   ]
  },
  {
   "cell_type": "code",
   "execution_count": null,
   "id": "d731fda0-cd47-41ec-b578-0c332ff2a2cc",
   "metadata": {
    "tags": []
   },
   "outputs": [],
   "source": [
    "from util.getinfo import get_info_from_db\n",
    "\n",
    "asin_list = get_asin_list(bedrock_kb_retrieve(bedrock_kb_id, query1, no_kb_results))\n",
    "asin = list(filter(lambda x :x!=search_asin, asin_list))[0]\n",
    "asin_result = get_info_from_db(asin, database_arn, database_secret_arn, database_name)\n",
    "asin_result['image'] = pick_img(asin_result['title'], asin_result['image'])\n",
    "print(asin_result)\n",
    "gallery([asin_result['image']])"
   ]
  }
 ],
 "metadata": {
  "availableInstances": [
   {
    "_defaultOrder": 0,
    "_isFastLaunch": true,
    "category": "General purpose",
    "gpuNum": 0,
    "hideHardwareSpecs": false,
    "memoryGiB": 4,
    "name": "ml.t3.medium",
    "vcpuNum": 2
   },
   {
    "_defaultOrder": 1,
    "_isFastLaunch": false,
    "category": "General purpose",
    "gpuNum": 0,
    "hideHardwareSpecs": false,
    "memoryGiB": 8,
    "name": "ml.t3.large",
    "vcpuNum": 2
   },
   {
    "_defaultOrder": 2,
    "_isFastLaunch": false,
    "category": "General purpose",
    "gpuNum": 0,
    "hideHardwareSpecs": false,
    "memoryGiB": 16,
    "name": "ml.t3.xlarge",
    "vcpuNum": 4
   },
   {
    "_defaultOrder": 3,
    "_isFastLaunch": false,
    "category": "General purpose",
    "gpuNum": 0,
    "hideHardwareSpecs": false,
    "memoryGiB": 32,
    "name": "ml.t3.2xlarge",
    "vcpuNum": 8
   },
   {
    "_defaultOrder": 4,
    "_isFastLaunch": true,
    "category": "General purpose",
    "gpuNum": 0,
    "hideHardwareSpecs": false,
    "memoryGiB": 8,
    "name": "ml.m5.large",
    "vcpuNum": 2
   },
   {
    "_defaultOrder": 5,
    "_isFastLaunch": false,
    "category": "General purpose",
    "gpuNum": 0,
    "hideHardwareSpecs": false,
    "memoryGiB": 16,
    "name": "ml.m5.xlarge",
    "vcpuNum": 4
   },
   {
    "_defaultOrder": 6,
    "_isFastLaunch": false,
    "category": "General purpose",
    "gpuNum": 0,
    "hideHardwareSpecs": false,
    "memoryGiB": 32,
    "name": "ml.m5.2xlarge",
    "vcpuNum": 8
   },
   {
    "_defaultOrder": 7,
    "_isFastLaunch": false,
    "category": "General purpose",
    "gpuNum": 0,
    "hideHardwareSpecs": false,
    "memoryGiB": 64,
    "name": "ml.m5.4xlarge",
    "vcpuNum": 16
   },
   {
    "_defaultOrder": 8,
    "_isFastLaunch": false,
    "category": "General purpose",
    "gpuNum": 0,
    "hideHardwareSpecs": false,
    "memoryGiB": 128,
    "name": "ml.m5.8xlarge",
    "vcpuNum": 32
   },
   {
    "_defaultOrder": 9,
    "_isFastLaunch": false,
    "category": "General purpose",
    "gpuNum": 0,
    "hideHardwareSpecs": false,
    "memoryGiB": 192,
    "name": "ml.m5.12xlarge",
    "vcpuNum": 48
   },
   {
    "_defaultOrder": 10,
    "_isFastLaunch": false,
    "category": "General purpose",
    "gpuNum": 0,
    "hideHardwareSpecs": false,
    "memoryGiB": 256,
    "name": "ml.m5.16xlarge",
    "vcpuNum": 64
   },
   {
    "_defaultOrder": 11,
    "_isFastLaunch": false,
    "category": "General purpose",
    "gpuNum": 0,
    "hideHardwareSpecs": false,
    "memoryGiB": 384,
    "name": "ml.m5.24xlarge",
    "vcpuNum": 96
   },
   {
    "_defaultOrder": 12,
    "_isFastLaunch": false,
    "category": "General purpose",
    "gpuNum": 0,
    "hideHardwareSpecs": false,
    "memoryGiB": 8,
    "name": "ml.m5d.large",
    "vcpuNum": 2
   },
   {
    "_defaultOrder": 13,
    "_isFastLaunch": false,
    "category": "General purpose",
    "gpuNum": 0,
    "hideHardwareSpecs": false,
    "memoryGiB": 16,
    "name": "ml.m5d.xlarge",
    "vcpuNum": 4
   },
   {
    "_defaultOrder": 14,
    "_isFastLaunch": false,
    "category": "General purpose",
    "gpuNum": 0,
    "hideHardwareSpecs": false,
    "memoryGiB": 32,
    "name": "ml.m5d.2xlarge",
    "vcpuNum": 8
   },
   {
    "_defaultOrder": 15,
    "_isFastLaunch": false,
    "category": "General purpose",
    "gpuNum": 0,
    "hideHardwareSpecs": false,
    "memoryGiB": 64,
    "name": "ml.m5d.4xlarge",
    "vcpuNum": 16
   },
   {
    "_defaultOrder": 16,
    "_isFastLaunch": false,
    "category": "General purpose",
    "gpuNum": 0,
    "hideHardwareSpecs": false,
    "memoryGiB": 128,
    "name": "ml.m5d.8xlarge",
    "vcpuNum": 32
   },
   {
    "_defaultOrder": 17,
    "_isFastLaunch": false,
    "category": "General purpose",
    "gpuNum": 0,
    "hideHardwareSpecs": false,
    "memoryGiB": 192,
    "name": "ml.m5d.12xlarge",
    "vcpuNum": 48
   },
   {
    "_defaultOrder": 18,
    "_isFastLaunch": false,
    "category": "General purpose",
    "gpuNum": 0,
    "hideHardwareSpecs": false,
    "memoryGiB": 256,
    "name": "ml.m5d.16xlarge",
    "vcpuNum": 64
   },
   {
    "_defaultOrder": 19,
    "_isFastLaunch": false,
    "category": "General purpose",
    "gpuNum": 0,
    "hideHardwareSpecs": false,
    "memoryGiB": 384,
    "name": "ml.m5d.24xlarge",
    "vcpuNum": 96
   },
   {
    "_defaultOrder": 20,
    "_isFastLaunch": false,
    "category": "General purpose",
    "gpuNum": 0,
    "hideHardwareSpecs": true,
    "memoryGiB": 0,
    "name": "ml.geospatial.interactive",
    "supportedImageNames": [
     "sagemaker-geospatial-v1-0"
    ],
    "vcpuNum": 0
   },
   {
    "_defaultOrder": 21,
    "_isFastLaunch": true,
    "category": "Compute optimized",
    "gpuNum": 0,
    "hideHardwareSpecs": false,
    "memoryGiB": 4,
    "name": "ml.c5.large",
    "vcpuNum": 2
   },
   {
    "_defaultOrder": 22,
    "_isFastLaunch": false,
    "category": "Compute optimized",
    "gpuNum": 0,
    "hideHardwareSpecs": false,
    "memoryGiB": 8,
    "name": "ml.c5.xlarge",
    "vcpuNum": 4
   },
   {
    "_defaultOrder": 23,
    "_isFastLaunch": false,
    "category": "Compute optimized",
    "gpuNum": 0,
    "hideHardwareSpecs": false,
    "memoryGiB": 16,
    "name": "ml.c5.2xlarge",
    "vcpuNum": 8
   },
   {
    "_defaultOrder": 24,
    "_isFastLaunch": false,
    "category": "Compute optimized",
    "gpuNum": 0,
    "hideHardwareSpecs": false,
    "memoryGiB": 32,
    "name": "ml.c5.4xlarge",
    "vcpuNum": 16
   },
   {
    "_defaultOrder": 25,
    "_isFastLaunch": false,
    "category": "Compute optimized",
    "gpuNum": 0,
    "hideHardwareSpecs": false,
    "memoryGiB": 72,
    "name": "ml.c5.9xlarge",
    "vcpuNum": 36
   },
   {
    "_defaultOrder": 26,
    "_isFastLaunch": false,
    "category": "Compute optimized",
    "gpuNum": 0,
    "hideHardwareSpecs": false,
    "memoryGiB": 96,
    "name": "ml.c5.12xlarge",
    "vcpuNum": 48
   },
   {
    "_defaultOrder": 27,
    "_isFastLaunch": false,
    "category": "Compute optimized",
    "gpuNum": 0,
    "hideHardwareSpecs": false,
    "memoryGiB": 144,
    "name": "ml.c5.18xlarge",
    "vcpuNum": 72
   },
   {
    "_defaultOrder": 28,
    "_isFastLaunch": false,
    "category": "Compute optimized",
    "gpuNum": 0,
    "hideHardwareSpecs": false,
    "memoryGiB": 192,
    "name": "ml.c5.24xlarge",
    "vcpuNum": 96
   },
   {
    "_defaultOrder": 29,
    "_isFastLaunch": true,
    "category": "Accelerated computing",
    "gpuNum": 1,
    "hideHardwareSpecs": false,
    "memoryGiB": 16,
    "name": "ml.g4dn.xlarge",
    "vcpuNum": 4
   },
   {
    "_defaultOrder": 30,
    "_isFastLaunch": false,
    "category": "Accelerated computing",
    "gpuNum": 1,
    "hideHardwareSpecs": false,
    "memoryGiB": 32,
    "name": "ml.g4dn.2xlarge",
    "vcpuNum": 8
   },
   {
    "_defaultOrder": 31,
    "_isFastLaunch": false,
    "category": "Accelerated computing",
    "gpuNum": 1,
    "hideHardwareSpecs": false,
    "memoryGiB": 64,
    "name": "ml.g4dn.4xlarge",
    "vcpuNum": 16
   },
   {
    "_defaultOrder": 32,
    "_isFastLaunch": false,
    "category": "Accelerated computing",
    "gpuNum": 1,
    "hideHardwareSpecs": false,
    "memoryGiB": 128,
    "name": "ml.g4dn.8xlarge",
    "vcpuNum": 32
   },
   {
    "_defaultOrder": 33,
    "_isFastLaunch": false,
    "category": "Accelerated computing",
    "gpuNum": 4,
    "hideHardwareSpecs": false,
    "memoryGiB": 192,
    "name": "ml.g4dn.12xlarge",
    "vcpuNum": 48
   },
   {
    "_defaultOrder": 34,
    "_isFastLaunch": false,
    "category": "Accelerated computing",
    "gpuNum": 1,
    "hideHardwareSpecs": false,
    "memoryGiB": 256,
    "name": "ml.g4dn.16xlarge",
    "vcpuNum": 64
   },
   {
    "_defaultOrder": 35,
    "_isFastLaunch": false,
    "category": "Accelerated computing",
    "gpuNum": 1,
    "hideHardwareSpecs": false,
    "memoryGiB": 61,
    "name": "ml.p3.2xlarge",
    "vcpuNum": 8
   },
   {
    "_defaultOrder": 36,
    "_isFastLaunch": false,
    "category": "Accelerated computing",
    "gpuNum": 4,
    "hideHardwareSpecs": false,
    "memoryGiB": 244,
    "name": "ml.p3.8xlarge",
    "vcpuNum": 32
   },
   {
    "_defaultOrder": 37,
    "_isFastLaunch": false,
    "category": "Accelerated computing",
    "gpuNum": 8,
    "hideHardwareSpecs": false,
    "memoryGiB": 488,
    "name": "ml.p3.16xlarge",
    "vcpuNum": 64
   },
   {
    "_defaultOrder": 38,
    "_isFastLaunch": false,
    "category": "Accelerated computing",
    "gpuNum": 8,
    "hideHardwareSpecs": false,
    "memoryGiB": 768,
    "name": "ml.p3dn.24xlarge",
    "vcpuNum": 96
   },
   {
    "_defaultOrder": 39,
    "_isFastLaunch": false,
    "category": "Memory Optimized",
    "gpuNum": 0,
    "hideHardwareSpecs": false,
    "memoryGiB": 16,
    "name": "ml.r5.large",
    "vcpuNum": 2
   },
   {
    "_defaultOrder": 40,
    "_isFastLaunch": false,
    "category": "Memory Optimized",
    "gpuNum": 0,
    "hideHardwareSpecs": false,
    "memoryGiB": 32,
    "name": "ml.r5.xlarge",
    "vcpuNum": 4
   },
   {
    "_defaultOrder": 41,
    "_isFastLaunch": false,
    "category": "Memory Optimized",
    "gpuNum": 0,
    "hideHardwareSpecs": false,
    "memoryGiB": 64,
    "name": "ml.r5.2xlarge",
    "vcpuNum": 8
   },
   {
    "_defaultOrder": 42,
    "_isFastLaunch": false,
    "category": "Memory Optimized",
    "gpuNum": 0,
    "hideHardwareSpecs": false,
    "memoryGiB": 128,
    "name": "ml.r5.4xlarge",
    "vcpuNum": 16
   },
   {
    "_defaultOrder": 43,
    "_isFastLaunch": false,
    "category": "Memory Optimized",
    "gpuNum": 0,
    "hideHardwareSpecs": false,
    "memoryGiB": 256,
    "name": "ml.r5.8xlarge",
    "vcpuNum": 32
   },
   {
    "_defaultOrder": 44,
    "_isFastLaunch": false,
    "category": "Memory Optimized",
    "gpuNum": 0,
    "hideHardwareSpecs": false,
    "memoryGiB": 384,
    "name": "ml.r5.12xlarge",
    "vcpuNum": 48
   },
   {
    "_defaultOrder": 45,
    "_isFastLaunch": false,
    "category": "Memory Optimized",
    "gpuNum": 0,
    "hideHardwareSpecs": false,
    "memoryGiB": 512,
    "name": "ml.r5.16xlarge",
    "vcpuNum": 64
   },
   {
    "_defaultOrder": 46,
    "_isFastLaunch": false,
    "category": "Memory Optimized",
    "gpuNum": 0,
    "hideHardwareSpecs": false,
    "memoryGiB": 768,
    "name": "ml.r5.24xlarge",
    "vcpuNum": 96
   },
   {
    "_defaultOrder": 47,
    "_isFastLaunch": false,
    "category": "Accelerated computing",
    "gpuNum": 1,
    "hideHardwareSpecs": false,
    "memoryGiB": 16,
    "name": "ml.g5.xlarge",
    "vcpuNum": 4
   },
   {
    "_defaultOrder": 48,
    "_isFastLaunch": false,
    "category": "Accelerated computing",
    "gpuNum": 1,
    "hideHardwareSpecs": false,
    "memoryGiB": 32,
    "name": "ml.g5.2xlarge",
    "vcpuNum": 8
   },
   {
    "_defaultOrder": 49,
    "_isFastLaunch": false,
    "category": "Accelerated computing",
    "gpuNum": 1,
    "hideHardwareSpecs": false,
    "memoryGiB": 64,
    "name": "ml.g5.4xlarge",
    "vcpuNum": 16
   },
   {
    "_defaultOrder": 50,
    "_isFastLaunch": false,
    "category": "Accelerated computing",
    "gpuNum": 1,
    "hideHardwareSpecs": false,
    "memoryGiB": 128,
    "name": "ml.g5.8xlarge",
    "vcpuNum": 32
   },
   {
    "_defaultOrder": 51,
    "_isFastLaunch": false,
    "category": "Accelerated computing",
    "gpuNum": 1,
    "hideHardwareSpecs": false,
    "memoryGiB": 256,
    "name": "ml.g5.16xlarge",
    "vcpuNum": 64
   },
   {
    "_defaultOrder": 52,
    "_isFastLaunch": false,
    "category": "Accelerated computing",
    "gpuNum": 4,
    "hideHardwareSpecs": false,
    "memoryGiB": 192,
    "name": "ml.g5.12xlarge",
    "vcpuNum": 48
   },
   {
    "_defaultOrder": 53,
    "_isFastLaunch": false,
    "category": "Accelerated computing",
    "gpuNum": 4,
    "hideHardwareSpecs": false,
    "memoryGiB": 384,
    "name": "ml.g5.24xlarge",
    "vcpuNum": 96
   },
   {
    "_defaultOrder": 54,
    "_isFastLaunch": false,
    "category": "Accelerated computing",
    "gpuNum": 8,
    "hideHardwareSpecs": false,
    "memoryGiB": 768,
    "name": "ml.g5.48xlarge",
    "vcpuNum": 192
   },
   {
    "_defaultOrder": 55,
    "_isFastLaunch": false,
    "category": "Accelerated computing",
    "gpuNum": 8,
    "hideHardwareSpecs": false,
    "memoryGiB": 1152,
    "name": "ml.p4d.24xlarge",
    "vcpuNum": 96
   },
   {
    "_defaultOrder": 56,
    "_isFastLaunch": false,
    "category": "Accelerated computing",
    "gpuNum": 8,
    "hideHardwareSpecs": false,
    "memoryGiB": 1152,
    "name": "ml.p4de.24xlarge",
    "vcpuNum": 96
   },
   {
    "_defaultOrder": 57,
    "_isFastLaunch": false,
    "category": "Accelerated computing",
    "gpuNum": 0,
    "hideHardwareSpecs": false,
    "memoryGiB": 32,
    "name": "ml.trn1.2xlarge",
    "vcpuNum": 8
   },
   {
    "_defaultOrder": 58,
    "_isFastLaunch": false,
    "category": "Accelerated computing",
    "gpuNum": 0,
    "hideHardwareSpecs": false,
    "memoryGiB": 512,
    "name": "ml.trn1.32xlarge",
    "vcpuNum": 128
   },
   {
    "_defaultOrder": 59,
    "_isFastLaunch": false,
    "category": "Accelerated computing",
    "gpuNum": 0,
    "hideHardwareSpecs": false,
    "memoryGiB": 512,
    "name": "ml.trn1n.32xlarge",
    "vcpuNum": 128
   }
  ],
  "instance_type": "ml.t3.medium",
  "kernelspec": {
   "display_name": "Python 3 (Data Science 3.0)",
   "language": "python",
   "name": "python3__SAGEMAKER_INTERNAL__arn:aws:sagemaker:us-west-2:236514542706:image/sagemaker-data-science-310-v1"
  },
  "language_info": {
   "codemirror_mode": {
    "name": "ipython",
    "version": 3
   },
   "file_extension": ".py",
   "mimetype": "text/x-python",
   "name": "python",
   "nbconvert_exporter": "python",
   "pygments_lexer": "ipython3",
   "version": "3.10.6"
  }
 },
 "nbformat": 4,
 "nbformat_minor": 5
}
