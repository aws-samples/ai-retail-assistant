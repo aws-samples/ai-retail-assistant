{
 "cells": [
  {
   "cell_type": "markdown",
   "id": "dbf4ece4-6823-4219-9745-8633d801ce44",
   "metadata": {},
   "source": [
    "# 2. Creating a managed PGVector knowledge base"
   ]
  },
  {
   "cell_type": "markdown",
   "id": "2b14c4a1-8e82-435f-9873-8317bf676b7e",
   "metadata": {},
   "source": [
    "This notebook walks you through the creation and usage of managed RAG (Retrieval Augmented Generation) using [Amazon Bedrock Knowledge Bases](https://docs.aws.amazon.com/bedrock/latest/userguide/knowledge-base.html). For this sample, we use PGVector in Amazon RDS Aurora PostgreSQL, with setup details described [here](https://docs.aws.amazon.com/bedrock/latest/userguide/knowledge-base-setup.html). \n",
    "\n",
    "At the time of writing, Bedrock Knowledge Bases use Amazon S3 as the ingestion source, so we will configure it to ingest the text files written to S3 in notebook 1. Additionally, for each product, we have written one text file and used the ASIN (uuid) as the file name. This will be important in RAG later for reliable source attribution during the search process.\n",
    "\n",
    "We will also be selecting `No chunking` for ingestion, so that each file corresponds to one ASIN. This means that the text in each file has to adhere to the chunk size limit described [here](https://docs.aws.amazon.com/bedrock/latest/userguide/quotas.html#quotas-kb)."
   ]
  },
  {
   "cell_type": "markdown",
   "id": "c07b35d1-005d-4938-810c-2b8243c3ebaa",
   "metadata": {},
   "source": [
    "2.0. [Set up](#2.0)\n",
    "\n",
    "2.1. [Configure RDS Aurora to permit access from Bedrock](#2.1)\n",
    "\n",
    "2.2. [Create and configure a table for Bedrock knowledge base](#2.2)\n",
    "\n",
    "2.3. [Manually set up a Bedrock knowledge base](#2.3)\n",
    "\n",
    "2.4. [Create and track data source sync job](#2.4)\n",
    "\n",
    "2.5. [Query the knowledge base](#2.5)"
   ]
  },
  {
   "cell_type": "markdown",
   "id": "d2c6f7c8-80a8-4dc6-bda5-1eab4196a8b0",
   "metadata": {},
   "source": [
    "## <a id=\"2.0\">Set up<a>"
   ]
  },
  {
   "cell_type": "code",
   "execution_count": null,
   "id": "bb1ea1eb-4d95-4d30-bf57-ed92455bc30b",
   "metadata": {},
   "outputs": [],
   "source": [
    "# run this cell to upgrade to the latest version of boto3 if required, and restart the kernel\n",
    "!pip install --upgrade --force --quiet botocore boto3"
   ]
  },
  {
   "cell_type": "code",
   "execution_count": null,
   "id": "473d7631-100b-4a9f-ac35-e8291dccc5ab",
   "metadata": {},
   "outputs": [],
   "source": [
    "%load_ext autoreload\n",
    "%autoreload 2"
   ]
  },
  {
   "cell_type": "code",
   "execution_count": null,
   "id": "def2b4e8-9e9d-4f7c-bd86-66b845202aa3",
   "metadata": {
    "tags": []
   },
   "outputs": [],
   "source": [
    "import boto3\n",
    "import sagemaker\n",
    "\n",
    "import pandas as pd\n",
    "import json\n",
    "from time import sleep"
   ]
  },
  {
   "cell_type": "markdown",
   "id": "344474c3-3e59-4d9e-8e62-7067946a431c",
   "metadata": {},
   "source": [
    "<div class=\"alert alert-block alert-warning\">\n",
    "\n",
    "IMPORTANT! Please copy and paste the required information for your <b>RDS Aurora PostgreSQL database</b> in the cell below.\n",
    "    \n",
    "</div>"
   ]
  },
  {
   "cell_type": "code",
   "execution_count": null,
   "id": "24e78f21-d4ef-446a-bece-7539ef182b9e",
   "metadata": {
    "tags": []
   },
   "outputs": [],
   "source": [
    "sess = sagemaker.Session()\n",
    "bucket = sess.default_bucket()\n",
    "region = sess.boto_region_name\n",
    "accountid = sess.account_id()\n",
    "product_db_data_path = 'amazon-reviews-fashion-metadata'\n",
    "bedrock_kb_data_path = 'bedrock-kb-data'\n",
    "bedrock_kb_datasource_uri = f's3://{bucket}/{bedrock_kb_data_path}/'\n",
    "\n",
    "database_identifier='<TODO>'\n",
    "database_arn='<TODO>'\n",
    "database_secret_arn='<TODO>'\n",
    "database_name='<TODO>'"
   ]
  },
  {
   "cell_type": "code",
   "execution_count": null,
   "id": "a85e353b-34f0-410d-b097-215f3526a387",
   "metadata": {},
   "outputs": [],
   "source": [
    "%mkdir -p util"
   ]
  },
  {
   "cell_type": "code",
   "execution_count": null,
   "id": "390d9d8c-c952-4d8b-ab10-388a8e54e103",
   "metadata": {
    "tags": []
   },
   "outputs": [],
   "source": [
    "# OPTIONAL\n",
    "items = pd.read_csv('items.txt', sep='|', index_col=False, \n",
    "                    names=['asin',\t'title', 'brand', 'price', 'description', 'image'])\n",
    "items"
   ]
  },
  {
   "cell_type": "markdown",
   "id": "f74d9da0-d92b-4a02-b937-37709f36f779",
   "metadata": {},
   "source": [
    "## 2.1 <a id=\"2.1\">Configure RDS Aurora to permit access from Bedrock<a>\n",
    "    \n",
    "Create a IAM policies and roles for Bedrock to interact with RDS and use it as a vector database"
   ]
  },
  {
   "cell_type": "code",
   "execution_count": null,
   "id": "8231127e-cdb5-41f9-8a18-e0a7fb7792ad",
   "metadata": {
    "tags": []
   },
   "outputs": [],
   "source": [
    "rds_trust_policy = f'''{{\n",
    "    \"Version\": \"2012-10-17\",\n",
    "    \"Statement\": [\n",
    "        {{\n",
    "            \"Sid\": \"\",\n",
    "            \"Effect\": \"Allow\",\n",
    "            \"Principal\": {{\n",
    "                \"Service\": \"rds.amazonaws.com\"\n",
    "            }},\n",
    "            \"Action\": \"sts:AssumeRole\"\n",
    "        }}\n",
    "    ]\n",
    "}}'''\n",
    "featurename = 'Bedrock'\n",
    "rds_bedrock_role_name = 'AuroraML'\n",
    "rds_bedrock_role_description = 'IAM role for RDS to interact with Bedrock'\n",
    "rds_bedrock_policy_name = 'rds-bedrock-policy'\n",
    "rds_bedrock_policy_description = 'IAM policy for RDS to interact with Bedrock'\n",
    "rds_bedrock_policy_document = f'''{{\n",
    "    \"Version\": \"2012-10-17\",\n",
    "    \"Statement\": [\n",
    "        {{\n",
    "            \"Sid\": \"VisualEditor0\",\n",
    "            \"Effect\": \"Allow\",\n",
    "            \"Action\": \"bedrock:InvokeModel\",\n",
    "            \"Resource\": [\n",
    "                \"arn:aws:bedrock:*:{accountid}:provisioned-model/*\",\n",
    "                \"arn:aws:bedrock:*::foundation-model/*\"\n",
    "            ]\n",
    "        }},\n",
    "        {{\n",
    "            \"Sid\": \"RdsDescribeStatementID\",\n",
    "            \"Effect\": \"Allow\",\n",
    "            \"Action\": [\n",
    "                \"rds:DescribeDBClusters\"\n",
    "            ],\n",
    "            \"Resource\": [\n",
    "                \"{database_arn}\"\n",
    "            ]\n",
    "        }},\n",
    "        {{\n",
    "            \"Sid\": \"DataAPIStatementID\",\n",
    "            \"Effect\": \"Allow\",\n",
    "            \"Action\": [\n",
    "                \"rds-data:BatchExecuteStatement\",\n",
    "                \"rds-data:ExecuteStatement\"\n",
    "            ],\n",
    "            \"Resource\": [\n",
    "                \"{database_arn}\"\n",
    "            ]\n",
    "        }}\n",
    "    ]\n",
    "}}'''\n",
    "    \n",
    "client = boto3.client('iam')\n",
    "try:\n",
    "    response_policy = client.create_policy(\n",
    "        PolicyName=rds_bedrock_policy_name,\n",
    "        PolicyDocument=rds_bedrock_policy_document,\n",
    "        Description=rds_bedrock_policy_description,\n",
    "    )\n",
    "    print('Policy created')\n",
    "except Exception as e:\n",
    "    print('Failed to create policy.', e)\n",
    "\n",
    "try:\n",
    "    response_role = client.create_role(\n",
    "        RoleName=rds_bedrock_role_name,\n",
    "        AssumeRolePolicyDocument=rds_trust_policy,\n",
    "        Description=rds_bedrock_role_description,\n",
    "    )\n",
    "    print('Role created')\n",
    "except Exception as e:\n",
    "    print('Failed to create role.', e)\n",
    "\n",
    "try:\n",
    "    add_policy = client.attach_role_policy(\n",
    "        RoleName=rds_bedrock_role_name,\n",
    "        PolicyArn=f'arn:aws:iam::{accountid}:policy/{rds_bedrock_policy_name}'\n",
    "    )\n",
    "    sleep(5)  # Allow permissions to propagate before attempting to attach\n",
    "    print('Policy added to Role')\n",
    "except Exception as e:\n",
    "    print(e)\n",
    "\n",
    "rdsclient = boto3.client('rds')\n",
    "try:\n",
    "    response_role = client.get_role(RoleName=rds_bedrock_role_name)\n",
    "    response_db_role = rdsclient.add_role_to_db_cluster(\n",
    "        DBClusterIdentifier=database_identifier,\n",
    "        RoleArn=response_role['Role']['Arn'],\n",
    "        FeatureName=featurename\n",
    "    )\n",
    "    print('Role attached to DB')\n",
    "except Exception as e:\n",
    "    print('Failed to attach role to DB.', e)"
   ]
  },
  {
   "cell_type": "markdown",
   "id": "3678548b-2092-40ba-8d75-249b3cdaf75d",
   "metadata": {},
   "source": [
    "## 2.2 <a id=\"2.2\">Create and configure a table for Bedrock Knowledge Base<a>\n",
    "\n",
    "Refer to the [prerequisites](https://docs.aws.amazon.com/bedrock/latest/userguide/knowledge-base-setup.html)"
   ]
  },
  {
   "cell_type": "code",
   "execution_count": null,
   "id": "14e13e47-7a0e-4745-9c51-ca8c42d91c63",
   "metadata": {
    "tags": []
   },
   "outputs": [],
   "source": [
    "# embedding_size=1536 #titan embedding model\n",
    "embedding_size=1024 #cohere embedding models\n",
    "\n",
    "sql_queries=[\n",
    "\"CREATE EXTENSION IF NOT EXISTS vector;\",\n",
    "\"CREATE SCHEMA IF NOT EXISTS bedrock_integration;\",\n",
    "f\"\"\"\n",
    "CREATE TABLE IF NOT EXISTS bedrock_integration.bedrock_kb (\n",
    "  id uuid PRIMARY KEY,\n",
    "  embedding vector({embedding_size}),\n",
    "  chunks text,\n",
    "  metadata json\n",
    ");\n",
    "\"\"\",\n",
    "f\"\"\"\n",
    "CREATE INDEX ON bedrock_integration.bedrock_kb\n",
    "  USING hnsw (embedding vector_cosine_ops);\n",
    "\"\"\"]\n",
    "\n",
    "rdsdata = boto3.client('rds-data')\n",
    "\n",
    "for query in sql_queries:\n",
    "    response = rdsdata.batch_execute_statement(\n",
    "        resourceArn=database_arn,\n",
    "        secretArn=database_secret_arn,\n",
    "        sql=query,\n",
    "        database=database_name,\n",
    "    )\n",
    "    print(response)"
   ]
  },
  {
   "cell_type": "markdown",
   "id": "440e5866-032e-4147-b56a-59266ce4a6e3",
   "metadata": {},
   "source": [
    "## 2.3 <a id=\"2.3\">Manually set up Amazon Bedrock Knowledge Base<a>"
   ]
  },
  {
   "cell_type": "code",
   "execution_count": null,
   "id": "de4d47c7",
   "metadata": {},
   "outputs": [],
   "source": []
  },
  {
   "cell_type": "markdown",
   "id": "af3e8a9b-60ff-4ff3-9bb0-d2b68669850b",
   "metadata": {
    "tags": []
   },
   "source": [
    "Refer to this [release blog](https://aws.amazon.com/blogs/database/build-generative-ai-applications-with-amazon-aurora-and-knowledge-bases-for-amazon-bedrock/) for screenshots.\n",
    "\n",
    "1. Use your admin user in your Aurora PostgreSQL cluster to create a new user: bedrock_user OR select an existing app user for Amazon Bedrock to use to access your cluster. Grant the user permissions to interact with the table created earlier.\n",
    "    ```\n",
    "    CREATE ROLE bedrock_user WITH PASSWORD <password> LOGIN;\n",
    "    GRANT ALL ON SCHEMA bedrock_integration to bedrock_user;\n",
    "    GRANT ALL ON ALL TABLES IN SCHEMA bedrock_integration to bedrock_user;\n",
    "    SET SESSION AUTHORIZATION bedrock_user;\n",
    "    ```\n",
    "<br>\n",
    "\n",
    "2. Create secret in Secrets Manager to store DB credentials for bedrock_user\n",
    "\n",
    "   Go to [AWS Secrets Manager](https://console.aws.amazon.com/secretsmanager/)\n",
    "\n",
    "3. Create Bedrock Knowledge Base using the AWS console\n",
    "\n",
    "- Instructions to create Bedrock Knowledge Base:\n",
    "    - For Amazon Aurora DB Cluster ARN, enter the ARN you saved when creating your Aurora cluster.\n",
    "    - For Database name, enter postgres.\n",
    "    - For Table name, enter bedrock_integration.bedrock_kb.\n",
    "    - For Secret ARN, enter the ARN you saved when creating the secret for bedrock_user.\n",
    "    - For Vector field, enter embedding.\n",
    "    - For Text field, enter chunks.\n",
    "    - For Bedrock-managed metadata field, enter metadata.\n",
    "    - For Primary key, enter id.\n",
    "- Instructions to create data source:\n",
    "    - Create a new data source\n",
    "    - Browse to the S3 path containing the output txt file(s)\n",
    "    - Open advanced settings and set chunkingStrategy as NONE\n",
    "    - Create the data source and click on sync to begin a new sync job"
   ]
  },
  {
   "cell_type": "code",
   "execution_count": null,
   "id": "399d6c75-444d-4f6f-a67f-3f2618849986",
   "metadata": {},
   "outputs": [],
   "source": [
    "print(f\"\"\"S3 Data URI: {bedrock_kb_datasource_uri} \n",
    "Database ARN: {database_arn}\n",
    "Database name: {database_name}\"\"\")"
   ]
  },
  {
   "cell_type": "markdown",
   "id": "210fa2cb-2987-483e-83d7-431cc3ae3862",
   "metadata": {
    "tags": []
   },
   "source": [
    "<div class=\"alert alert-block alert-warning\">\n",
    "\n",
    "IMPORTANT! Please copy and paste the <b>Bedrock Knowledge Base ID</b>, <b>Data Source ID</b> and <b>the secret ARN for bedrock_user </b>for the knowledge base that you have created in the cell below.\n",
    "    \n",
    "</div>"
   ]
  },
  {
   "cell_type": "code",
   "execution_count": null,
   "id": "525215bd-cd6e-423f-baa6-15d45ac05d8f",
   "metadata": {},
   "outputs": [],
   "source": [
    "bedrock_kb_id = '<TODO>'\n",
    "data_source_id = '<TODO>'\n",
    "bedrock_user_secret_arn = '<TODO>'"
   ]
  },
  {
   "cell_type": "code",
   "execution_count": null,
   "id": "268c3b53-6a5e-49c7-b12d-8c86e966ef3b",
   "metadata": {
    "tags": []
   },
   "outputs": [],
   "source": [
    "# # [OPTIONAL] Update S3 Policy for Bedrock Knowledge Base if you get permission errors\n",
    "# bedrock_agent_client = boto3.client('bedrock-agent')\n",
    "\n",
    "# s3_role = bedrock_agent_client.get_knowledge_base(knowledgeBaseId=bedrock_kb_id)['knowledgeBase']['roleArn'].split('/')[-1]\n",
    "\n",
    "# for policy in client.list_attached_role_policies(RoleName=s3_role)['AttachedPolicies']:\n",
    "#     if 'AmazonBedrockS3PolicyForKnowledgeBase' in policy['PolicyName']:\n",
    "#         s3_policy_arn = policy['PolicyArn']\n",
    "\n",
    "# s3_policy_document = f'''{{\n",
    "#     \"Version\": \"2012-10-17\",\n",
    "#     \"Statement\": [\n",
    "#         {{\n",
    "#             \"Sid\": \"S3ListBucketStatement\",\n",
    "#             \"Effect\": \"Allow\",\n",
    "#             \"Action\": [\n",
    "#                 \"s3:ListBucket\"\n",
    "#             ],\n",
    "#             \"Resource\": [\n",
    "#                 \"arn:aws:s3:::{bucket}\"\n",
    "#             ],\n",
    "#             \"Condition\": {{\n",
    "#                 \"StringEquals\": {{\n",
    "#                     \"aws:ResourceAccount\": \"{accountid}\"\n",
    "#                 }}\n",
    "#             }}\n",
    "#         }},\n",
    "#         {{\n",
    "#             \"Sid\": \"S3GetObjectStatement\",\n",
    "#             \"Effect\": \"Allow\",\n",
    "#             \"Action\": [\n",
    "#                 \"s3:GetObject\"\n",
    "#             ],\n",
    "#             \"Resource\": [\n",
    "#                 \"arn:aws:s3:::{bucket}/{bedrock_kb_data_path}/*\"\n",
    "#             ],\n",
    "#             \"Condition\": {{\n",
    "#                 \"StringEquals\": {{\n",
    "#                     \"aws:ResourceAccount\": \"{accountid}\"\n",
    "#                 }}\n",
    "#             }}\n",
    "#         }}\n",
    "#     ]\n",
    "# }}'''\n",
    "\n",
    "# s3_policy_response = client.create_policy_version(\n",
    "#     PolicyArn= s3_policy_arn,\n",
    "#     PolicyDocument= s3_policy_document,\n",
    "#     SetAsDefault= True\n",
    "# )\n",
    "\n",
    "\n",
    "# print(f'Updated {s3_policy_arn}\\n {s3_policy_response}')"
   ]
  },
  {
   "cell_type": "markdown",
   "id": "db921a25-edca-4fa3-8ee7-8cd9db89e06c",
   "metadata": {
    "tags": []
   },
   "source": [
    "## 2.4 <a id=\"2.4\">Create and track data source sync job<a>"
   ]
  },
  {
   "cell_type": "code",
   "execution_count": null,
   "id": "e7f2e4d2-f24e-4887-90c3-ceb15fe8317a",
   "metadata": {
    "tags": []
   },
   "outputs": [],
   "source": [
    "bedrock_agent_client = boto3.client('bedrock-agent')\n",
    "\n",
    "counter = 0\n",
    "while counter < 20:\n",
    "    \n",
    "    data_store_status = bedrock_agent_client.get_data_source(knowledgeBaseId=bedrock_kb_id,dataSourceId=data_source_id)\n",
    "    \n",
    "    if data_store_status['dataSource']['status'] == 'AVAILABLE':\n",
    "        try:\n",
    "            response_sync_source = bedrock_agent_client.start_ingestion_job(\n",
    "                knowledgeBaseId=bedrock_kb_id,\n",
    "                dataSourceId=data_source_id,\n",
    "            )['ingestionJob']['ingestionJobId']\n",
    "            print(response_sync_source)\n",
    "        except Exception as e:\n",
    "            response_sync_source = bedrock_agent_client.list_ingestion_jobs(\n",
    "                knowledgeBaseId=bedrock_kb_id,\n",
    "                dataSourceId=data_source_id,\n",
    "            )['ingestionJobSummaries'][0]['ingestionJobId']\n",
    "            print(e)\n",
    "        break;\n",
    "    else:\n",
    "        sleep(30)\n",
    "        counter +=1"
   ]
  },
  {
   "cell_type": "code",
   "execution_count": null,
   "id": "d560cee9-7696-4823-b310-1412d1560048",
   "metadata": {
    "scrolled": true,
    "tags": []
   },
   "outputs": [],
   "source": [
    "ingestion_job_id = response_sync_source\n",
    "# ingestion_job_id = 'IUI8RBF2TW'\n",
    "\n",
    "while bedrock_agent_client.get_ingestion_job(\n",
    "    knowledgeBaseId=bedrock_kb_id,\n",
    "    dataSourceId=data_source_id,\n",
    "    ingestionJobId=ingestion_job_id\n",
    ") == 'IN_PROGRESS':\n",
    "    sleep(60)\n",
    "    \n",
    "bedrock_agent_client.get_ingestion_job(\n",
    "    knowledgeBaseId=bedrock_kb_id,\n",
    "    dataSourceId=data_source_id,\n",
    "    ingestionJobId=ingestion_job_id\n",
    ")"
   ]
  },
  {
   "cell_type": "markdown",
   "id": "189e56a8-7273-4062-a9be-3c5c251af064",
   "metadata": {
    "tags": []
   },
   "source": [
    "## 2.5 <a id=\"2.5\">Query the knowledge base<a>"
   ]
  },
  {
   "cell_type": "code",
   "execution_count": null,
   "id": "654902f0-dae5-4686-b656-2af55da021f2",
   "metadata": {
    "tags": []
   },
   "outputs": [],
   "source": [
    "%%writefile util/bedrockkb.py\n",
    "import boto3\n",
    "\n",
    "def bedrock_kb_retrieve(bedrock_kb_id, search_query, no_kb_results):\n",
    "    client = boto3.client('bedrock-agent-runtime')\n",
    "\n",
    "    response_kb = client.retrieve(\n",
    "        knowledgeBaseId=bedrock_kb_id,\n",
    "        retrievalConfiguration={\n",
    "            'vectorSearchConfiguration': {\n",
    "                'numberOfResults': no_kb_results,\n",
    "            }\n",
    "        },\n",
    "        retrievalQuery={\n",
    "            'text': search_query \n",
    "        }\n",
    "    )\n",
    "    \n",
    "    results = response_kb[\"retrievalResults\"]\n",
    "    \n",
    "    if len(results) == 0:\n",
    "        return None\n",
    "    elif len(results) ==1:\n",
    "        return results.tolist()\n",
    "    else:\n",
    "        return results"
   ]
  },
  {
   "cell_type": "code",
   "execution_count": null,
   "id": "5e89d3e1-0142-4ce8-9265-649b5b292cf7",
   "metadata": {
    "tags": []
   },
   "outputs": [],
   "source": [
    "from util.bedrockkb import bedrock_kb_retrieve\n",
    "\n",
    "search_query = 'sports shoes'\n",
    "no_kb_results = 3\n",
    "bedrock_kb_retrieve(bedrock_kb_id, search_query, no_kb_results)"
   ]
  }
 ],
 "metadata": {
  "availableInstances": [
   {
    "_defaultOrder": 0,
    "_isFastLaunch": true,
    "category": "General purpose",
    "gpuNum": 0,
    "hideHardwareSpecs": false,
    "memoryGiB": 4,
    "name": "ml.t3.medium",
    "vcpuNum": 2
   },
   {
    "_defaultOrder": 1,
    "_isFastLaunch": false,
    "category": "General purpose",
    "gpuNum": 0,
    "hideHardwareSpecs": false,
    "memoryGiB": 8,
    "name": "ml.t3.large",
    "vcpuNum": 2
   },
   {
    "_defaultOrder": 2,
    "_isFastLaunch": false,
    "category": "General purpose",
    "gpuNum": 0,
    "hideHardwareSpecs": false,
    "memoryGiB": 16,
    "name": "ml.t3.xlarge",
    "vcpuNum": 4
   },
   {
    "_defaultOrder": 3,
    "_isFastLaunch": false,
    "category": "General purpose",
    "gpuNum": 0,
    "hideHardwareSpecs": false,
    "memoryGiB": 32,
    "name": "ml.t3.2xlarge",
    "vcpuNum": 8
   },
   {
    "_defaultOrder": 4,
    "_isFastLaunch": true,
    "category": "General purpose",
    "gpuNum": 0,
    "hideHardwareSpecs": false,
    "memoryGiB": 8,
    "name": "ml.m5.large",
    "vcpuNum": 2
   },
   {
    "_defaultOrder": 5,
    "_isFastLaunch": false,
    "category": "General purpose",
    "gpuNum": 0,
    "hideHardwareSpecs": false,
    "memoryGiB": 16,
    "name": "ml.m5.xlarge",
    "vcpuNum": 4
   },
   {
    "_defaultOrder": 6,
    "_isFastLaunch": false,
    "category": "General purpose",
    "gpuNum": 0,
    "hideHardwareSpecs": false,
    "memoryGiB": 32,
    "name": "ml.m5.2xlarge",
    "vcpuNum": 8
   },
   {
    "_defaultOrder": 7,
    "_isFastLaunch": false,
    "category": "General purpose",
    "gpuNum": 0,
    "hideHardwareSpecs": false,
    "memoryGiB": 64,
    "name": "ml.m5.4xlarge",
    "vcpuNum": 16
   },
   {
    "_defaultOrder": 8,
    "_isFastLaunch": false,
    "category": "General purpose",
    "gpuNum": 0,
    "hideHardwareSpecs": false,
    "memoryGiB": 128,
    "name": "ml.m5.8xlarge",
    "vcpuNum": 32
   },
   {
    "_defaultOrder": 9,
    "_isFastLaunch": false,
    "category": "General purpose",
    "gpuNum": 0,
    "hideHardwareSpecs": false,
    "memoryGiB": 192,
    "name": "ml.m5.12xlarge",
    "vcpuNum": 48
   },
   {
    "_defaultOrder": 10,
    "_isFastLaunch": false,
    "category": "General purpose",
    "gpuNum": 0,
    "hideHardwareSpecs": false,
    "memoryGiB": 256,
    "name": "ml.m5.16xlarge",
    "vcpuNum": 64
   },
   {
    "_defaultOrder": 11,
    "_isFastLaunch": false,
    "category": "General purpose",
    "gpuNum": 0,
    "hideHardwareSpecs": false,
    "memoryGiB": 384,
    "name": "ml.m5.24xlarge",
    "vcpuNum": 96
   },
   {
    "_defaultOrder": 12,
    "_isFastLaunch": false,
    "category": "General purpose",
    "gpuNum": 0,
    "hideHardwareSpecs": false,
    "memoryGiB": 8,
    "name": "ml.m5d.large",
    "vcpuNum": 2
   },
   {
    "_defaultOrder": 13,
    "_isFastLaunch": false,
    "category": "General purpose",
    "gpuNum": 0,
    "hideHardwareSpecs": false,
    "memoryGiB": 16,
    "name": "ml.m5d.xlarge",
    "vcpuNum": 4
   },
   {
    "_defaultOrder": 14,
    "_isFastLaunch": false,
    "category": "General purpose",
    "gpuNum": 0,
    "hideHardwareSpecs": false,
    "memoryGiB": 32,
    "name": "ml.m5d.2xlarge",
    "vcpuNum": 8
   },
   {
    "_defaultOrder": 15,
    "_isFastLaunch": false,
    "category": "General purpose",
    "gpuNum": 0,
    "hideHardwareSpecs": false,
    "memoryGiB": 64,
    "name": "ml.m5d.4xlarge",
    "vcpuNum": 16
   },
   {
    "_defaultOrder": 16,
    "_isFastLaunch": false,
    "category": "General purpose",
    "gpuNum": 0,
    "hideHardwareSpecs": false,
    "memoryGiB": 128,
    "name": "ml.m5d.8xlarge",
    "vcpuNum": 32
   },
   {
    "_defaultOrder": 17,
    "_isFastLaunch": false,
    "category": "General purpose",
    "gpuNum": 0,
    "hideHardwareSpecs": false,
    "memoryGiB": 192,
    "name": "ml.m5d.12xlarge",
    "vcpuNum": 48
   },
   {
    "_defaultOrder": 18,
    "_isFastLaunch": false,
    "category": "General purpose",
    "gpuNum": 0,
    "hideHardwareSpecs": false,
    "memoryGiB": 256,
    "name": "ml.m5d.16xlarge",
    "vcpuNum": 64
   },
   {
    "_defaultOrder": 19,
    "_isFastLaunch": false,
    "category": "General purpose",
    "gpuNum": 0,
    "hideHardwareSpecs": false,
    "memoryGiB": 384,
    "name": "ml.m5d.24xlarge",
    "vcpuNum": 96
   },
   {
    "_defaultOrder": 20,
    "_isFastLaunch": false,
    "category": "General purpose",
    "gpuNum": 0,
    "hideHardwareSpecs": true,
    "memoryGiB": 0,
    "name": "ml.geospatial.interactive",
    "supportedImageNames": [
     "sagemaker-geospatial-v1-0"
    ],
    "vcpuNum": 0
   },
   {
    "_defaultOrder": 21,
    "_isFastLaunch": true,
    "category": "Compute optimized",
    "gpuNum": 0,
    "hideHardwareSpecs": false,
    "memoryGiB": 4,
    "name": "ml.c5.large",
    "vcpuNum": 2
   },
   {
    "_defaultOrder": 22,
    "_isFastLaunch": false,
    "category": "Compute optimized",
    "gpuNum": 0,
    "hideHardwareSpecs": false,
    "memoryGiB": 8,
    "name": "ml.c5.xlarge",
    "vcpuNum": 4
   },
   {
    "_defaultOrder": 23,
    "_isFastLaunch": false,
    "category": "Compute optimized",
    "gpuNum": 0,
    "hideHardwareSpecs": false,
    "memoryGiB": 16,
    "name": "ml.c5.2xlarge",
    "vcpuNum": 8
   },
   {
    "_defaultOrder": 24,
    "_isFastLaunch": false,
    "category": "Compute optimized",
    "gpuNum": 0,
    "hideHardwareSpecs": false,
    "memoryGiB": 32,
    "name": "ml.c5.4xlarge",
    "vcpuNum": 16
   },
   {
    "_defaultOrder": 25,
    "_isFastLaunch": false,
    "category": "Compute optimized",
    "gpuNum": 0,
    "hideHardwareSpecs": false,
    "memoryGiB": 72,
    "name": "ml.c5.9xlarge",
    "vcpuNum": 36
   },
   {
    "_defaultOrder": 26,
    "_isFastLaunch": false,
    "category": "Compute optimized",
    "gpuNum": 0,
    "hideHardwareSpecs": false,
    "memoryGiB": 96,
    "name": "ml.c5.12xlarge",
    "vcpuNum": 48
   },
   {
    "_defaultOrder": 27,
    "_isFastLaunch": false,
    "category": "Compute optimized",
    "gpuNum": 0,
    "hideHardwareSpecs": false,
    "memoryGiB": 144,
    "name": "ml.c5.18xlarge",
    "vcpuNum": 72
   },
   {
    "_defaultOrder": 28,
    "_isFastLaunch": false,
    "category": "Compute optimized",
    "gpuNum": 0,
    "hideHardwareSpecs": false,
    "memoryGiB": 192,
    "name": "ml.c5.24xlarge",
    "vcpuNum": 96
   },
   {
    "_defaultOrder": 29,
    "_isFastLaunch": true,
    "category": "Accelerated computing",
    "gpuNum": 1,
    "hideHardwareSpecs": false,
    "memoryGiB": 16,
    "name": "ml.g4dn.xlarge",
    "vcpuNum": 4
   },
   {
    "_defaultOrder": 30,
    "_isFastLaunch": false,
    "category": "Accelerated computing",
    "gpuNum": 1,
    "hideHardwareSpecs": false,
    "memoryGiB": 32,
    "name": "ml.g4dn.2xlarge",
    "vcpuNum": 8
   },
   {
    "_defaultOrder": 31,
    "_isFastLaunch": false,
    "category": "Accelerated computing",
    "gpuNum": 1,
    "hideHardwareSpecs": false,
    "memoryGiB": 64,
    "name": "ml.g4dn.4xlarge",
    "vcpuNum": 16
   },
   {
    "_defaultOrder": 32,
    "_isFastLaunch": false,
    "category": "Accelerated computing",
    "gpuNum": 1,
    "hideHardwareSpecs": false,
    "memoryGiB": 128,
    "name": "ml.g4dn.8xlarge",
    "vcpuNum": 32
   },
   {
    "_defaultOrder": 33,
    "_isFastLaunch": false,
    "category": "Accelerated computing",
    "gpuNum": 4,
    "hideHardwareSpecs": false,
    "memoryGiB": 192,
    "name": "ml.g4dn.12xlarge",
    "vcpuNum": 48
   },
   {
    "_defaultOrder": 34,
    "_isFastLaunch": false,
    "category": "Accelerated computing",
    "gpuNum": 1,
    "hideHardwareSpecs": false,
    "memoryGiB": 256,
    "name": "ml.g4dn.16xlarge",
    "vcpuNum": 64
   },
   {
    "_defaultOrder": 35,
    "_isFastLaunch": false,
    "category": "Accelerated computing",
    "gpuNum": 1,
    "hideHardwareSpecs": false,
    "memoryGiB": 61,
    "name": "ml.p3.2xlarge",
    "vcpuNum": 8
   },
   {
    "_defaultOrder": 36,
    "_isFastLaunch": false,
    "category": "Accelerated computing",
    "gpuNum": 4,
    "hideHardwareSpecs": false,
    "memoryGiB": 244,
    "name": "ml.p3.8xlarge",
    "vcpuNum": 32
   },
   {
    "_defaultOrder": 37,
    "_isFastLaunch": false,
    "category": "Accelerated computing",
    "gpuNum": 8,
    "hideHardwareSpecs": false,
    "memoryGiB": 488,
    "name": "ml.p3.16xlarge",
    "vcpuNum": 64
   },
   {
    "_defaultOrder": 38,
    "_isFastLaunch": false,
    "category": "Accelerated computing",
    "gpuNum": 8,
    "hideHardwareSpecs": false,
    "memoryGiB": 768,
    "name": "ml.p3dn.24xlarge",
    "vcpuNum": 96
   },
   {
    "_defaultOrder": 39,
    "_isFastLaunch": false,
    "category": "Memory Optimized",
    "gpuNum": 0,
    "hideHardwareSpecs": false,
    "memoryGiB": 16,
    "name": "ml.r5.large",
    "vcpuNum": 2
   },
   {
    "_defaultOrder": 40,
    "_isFastLaunch": false,
    "category": "Memory Optimized",
    "gpuNum": 0,
    "hideHardwareSpecs": false,
    "memoryGiB": 32,
    "name": "ml.r5.xlarge",
    "vcpuNum": 4
   },
   {
    "_defaultOrder": 41,
    "_isFastLaunch": false,
    "category": "Memory Optimized",
    "gpuNum": 0,
    "hideHardwareSpecs": false,
    "memoryGiB": 64,
    "name": "ml.r5.2xlarge",
    "vcpuNum": 8
   },
   {
    "_defaultOrder": 42,
    "_isFastLaunch": false,
    "category": "Memory Optimized",
    "gpuNum": 0,
    "hideHardwareSpecs": false,
    "memoryGiB": 128,
    "name": "ml.r5.4xlarge",
    "vcpuNum": 16
   },
   {
    "_defaultOrder": 43,
    "_isFastLaunch": false,
    "category": "Memory Optimized",
    "gpuNum": 0,
    "hideHardwareSpecs": false,
    "memoryGiB": 256,
    "name": "ml.r5.8xlarge",
    "vcpuNum": 32
   },
   {
    "_defaultOrder": 44,
    "_isFastLaunch": false,
    "category": "Memory Optimized",
    "gpuNum": 0,
    "hideHardwareSpecs": false,
    "memoryGiB": 384,
    "name": "ml.r5.12xlarge",
    "vcpuNum": 48
   },
   {
    "_defaultOrder": 45,
    "_isFastLaunch": false,
    "category": "Memory Optimized",
    "gpuNum": 0,
    "hideHardwareSpecs": false,
    "memoryGiB": 512,
    "name": "ml.r5.16xlarge",
    "vcpuNum": 64
   },
   {
    "_defaultOrder": 46,
    "_isFastLaunch": false,
    "category": "Memory Optimized",
    "gpuNum": 0,
    "hideHardwareSpecs": false,
    "memoryGiB": 768,
    "name": "ml.r5.24xlarge",
    "vcpuNum": 96
   },
   {
    "_defaultOrder": 47,
    "_isFastLaunch": false,
    "category": "Accelerated computing",
    "gpuNum": 1,
    "hideHardwareSpecs": false,
    "memoryGiB": 16,
    "name": "ml.g5.xlarge",
    "vcpuNum": 4
   },
   {
    "_defaultOrder": 48,
    "_isFastLaunch": false,
    "category": "Accelerated computing",
    "gpuNum": 1,
    "hideHardwareSpecs": false,
    "memoryGiB": 32,
    "name": "ml.g5.2xlarge",
    "vcpuNum": 8
   },
   {
    "_defaultOrder": 49,
    "_isFastLaunch": false,
    "category": "Accelerated computing",
    "gpuNum": 1,
    "hideHardwareSpecs": false,
    "memoryGiB": 64,
    "name": "ml.g5.4xlarge",
    "vcpuNum": 16
   },
   {
    "_defaultOrder": 50,
    "_isFastLaunch": false,
    "category": "Accelerated computing",
    "gpuNum": 1,
    "hideHardwareSpecs": false,
    "memoryGiB": 128,
    "name": "ml.g5.8xlarge",
    "vcpuNum": 32
   },
   {
    "_defaultOrder": 51,
    "_isFastLaunch": false,
    "category": "Accelerated computing",
    "gpuNum": 1,
    "hideHardwareSpecs": false,
    "memoryGiB": 256,
    "name": "ml.g5.16xlarge",
    "vcpuNum": 64
   },
   {
    "_defaultOrder": 52,
    "_isFastLaunch": false,
    "category": "Accelerated computing",
    "gpuNum": 4,
    "hideHardwareSpecs": false,
    "memoryGiB": 192,
    "name": "ml.g5.12xlarge",
    "vcpuNum": 48
   },
   {
    "_defaultOrder": 53,
    "_isFastLaunch": false,
    "category": "Accelerated computing",
    "gpuNum": 4,
    "hideHardwareSpecs": false,
    "memoryGiB": 384,
    "name": "ml.g5.24xlarge",
    "vcpuNum": 96
   },
   {
    "_defaultOrder": 54,
    "_isFastLaunch": false,
    "category": "Accelerated computing",
    "gpuNum": 8,
    "hideHardwareSpecs": false,
    "memoryGiB": 768,
    "name": "ml.g5.48xlarge",
    "vcpuNum": 192
   },
   {
    "_defaultOrder": 55,
    "_isFastLaunch": false,
    "category": "Accelerated computing",
    "gpuNum": 8,
    "hideHardwareSpecs": false,
    "memoryGiB": 1152,
    "name": "ml.p4d.24xlarge",
    "vcpuNum": 96
   },
   {
    "_defaultOrder": 56,
    "_isFastLaunch": false,
    "category": "Accelerated computing",
    "gpuNum": 8,
    "hideHardwareSpecs": false,
    "memoryGiB": 1152,
    "name": "ml.p4de.24xlarge",
    "vcpuNum": 96
   },
   {
    "_defaultOrder": 57,
    "_isFastLaunch": false,
    "category": "Accelerated computing",
    "gpuNum": 0,
    "hideHardwareSpecs": false,
    "memoryGiB": 32,
    "name": "ml.trn1.2xlarge",
    "vcpuNum": 8
   },
   {
    "_defaultOrder": 58,
    "_isFastLaunch": false,
    "category": "Accelerated computing",
    "gpuNum": 0,
    "hideHardwareSpecs": false,
    "memoryGiB": 512,
    "name": "ml.trn1.32xlarge",
    "vcpuNum": 128
   },
   {
    "_defaultOrder": 59,
    "_isFastLaunch": false,
    "category": "Accelerated computing",
    "gpuNum": 0,
    "hideHardwareSpecs": false,
    "memoryGiB": 512,
    "name": "ml.trn1n.32xlarge",
    "vcpuNum": 128
   }
  ],
  "instance_type": "ml.t3.medium",
  "kernelspec": {
   "display_name": "Python 3 (Data Science 3.0)",
   "language": "python",
   "name": "python3__SAGEMAKER_INTERNAL__arn:aws:sagemaker:us-west-2:236514542706:image/sagemaker-data-science-310-v1"
  },
  "language_info": {
   "codemirror_mode": {
    "name": "ipython",
    "version": 3
   },
   "file_extension": ".py",
   "mimetype": "text/x-python",
   "name": "python",
   "nbconvert_exporter": "python",
   "pygments_lexer": "ipython3",
   "version": "3.10.6"
  }
 },
 "nbformat": 4,
 "nbformat_minor": 5
}
