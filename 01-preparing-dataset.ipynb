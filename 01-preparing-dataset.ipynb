{
 "cells": [
  {
   "cell_type": "markdown",
   "id": "4903e024-249a-4289-ab95-2f44857f2886",
   "metadata": {},
   "source": [
    "# 1. Preparing a sample product dataset from Amazon Reviews"
   ]
  },
  {
   "cell_type": "markdown",
   "id": "98607057-5384-4cd0-9724-8d8118dba1b3",
   "metadata": {},
   "source": [
    "This notebook brings you through the setup of product catalog data using the Amazon Reviews dataset available [here](https://amazon-reviews-2023.github.io/). The exact dataset used is the fashion metadata dataset from 2018 to select a sufficiently small dataset size for this example. \n",
    "\n",
    "In this notebook, we pre-process the metadata to get rid of undesirable inputs (e.g. entire HTML pages in text fields, get rid of duplicates and rows with blank fields) before inserting data into a product database in RDS (Aurora PostgreSQL) using the RDS Data API.\n",
    "\n",
    "The [RDS Data API](https://docs.aws.amazon.com/rdsdataservice/latest/APIReference/Welcome.html) allows us to interact with RDS using HTTP API calls and relies on IAM permissions and secrets in [AWS Secrets Manager](https://aws.amazon.com/secrets-manager/) instead of using a PostgreSQL client to make connections using database credentials. This is especially helpful if your SageMaker domain and/or RDS cluster (e.g. serverless) is not bounded to a VPC. See more details and prerequisites [here](https://docs.aws.amazon.com/AmazonRDS/latest/AuroraUserGuide/data-api.html).\n",
    "\n",
    "Before beginning the lab, [create a RDS Aurora PostgreSQL database cluster](https://docs.aws.amazon.com/AmazonRDS/latest/AuroraUserGuide/Aurora.CreateInstance.html) or select an existing database, taking into account prerequisites described in the [guide for using it as a vector database](https://docs.aws.amazon.com/AmazonRDS/latest/AuroraUserGuide/AuroraPostgreSQL.VectorDB.html). If you create a new database cluster, make sure to create an **initial database** by specifying an initial database name (e.g. postgres) under 'Additional Configuration'. If you are using an existing cluster, it is recommended for you to create a new database just for this lab. Also, follow these [instructions to create a database secret](https://docs.aws.amazon.com/secretsmanager/latest/userguide/create_database_secret.html) for your database credentials.\n",
    "\n",
    "Check that your SageMaker domain IAM role has a custom inline policy like the [one provided](sagemakerpolicy.json) and `AmazonBedrockFullAccess`. Make sure that you have also configured the required settings for using Claude 3 models, Cohere embedding model(s) and/or Titan embedding model in Amazon Bedrock [Model Access](https://docs.aws.amazon.com/bedrock/latest/userguide/model-access.html). Both of the provided IAM policies are broad examples used for the sample to work smoothly, and can be scoped down to more granular permissions when used in practice."
   ]
  },
  {
   "cell_type": "markdown",
   "id": "aa4d4453-34da-4666-b6ff-e90f3f274fb5",
   "metadata": {},
   "source": [
    "1.0. [Set up](#1.0)\n",
    "\n",
    "1.1. [Download and process data](#1.1)\n",
    "\n",
    "1.2. [Insert data into Aurora PostgreSQL database](#1.2)\n",
    "\n",
    "1.3. [Create product summaries](#1.3)\n",
    "\n",
    "1.4. [\\[Optional\\] Create embeddings](#1.4)"
   ]
  },
  {
   "cell_type": "markdown",
   "id": "18496910-fa03-4606-baf1-85e12b988232",
   "metadata": {},
   "source": [
    "## <a id=\"1.0\">Set up<a>"
   ]
  },
  {
   "cell_type": "code",
   "execution_count": null,
   "id": "28ba5440-0dd5-4bd0-a950-54d065dcefdc",
   "metadata": {},
   "outputs": [],
   "source": [
    "# run this cell to upgrade to the latest version of boto3 if required, and restart the kernel\n",
    "%pip install --upgrade --quiet botocore boto3"
   ]
  },
  {
   "cell_type": "code",
   "execution_count": null,
   "id": "e7a2d66b-9f08-4cc1-b46b-5c448fe2c4f0",
   "metadata": {},
   "outputs": [],
   "source": [
    "%load_ext autoreload\n",
    "%autoreload 2\n",
    "\n",
    "# Python Built-Ins:\n",
    "import gzip\n",
    "import logging\n",
    "import json\n",
    "import re\n",
    "from time import sleep\n",
    "\n",
    "# External Dependencies:\n",
    "import boto3\n",
    "import numpy as np\n",
    "import pandas as pd\n",
    "import sagemaker\n",
    "from tqdm import tqdm"
   ]
  },
  {
   "cell_type": "markdown",
   "id": "4fdcb1c8-5808-40b2-9487-a3b015561df6",
   "metadata": {},
   "source": [
    "<div class=\"alert alert-block alert-warning\">\n",
    "\n",
    "IMPORTANT! Please copy and paste the required information for your <b>RDS Aurora PostgreSQL database</b> in the cell below.\n",
    "    \n",
    "</div>"
   ]
  },
  {
   "cell_type": "code",
   "execution_count": null,
   "id": "7d602778-7166-43c7-bcd2-47bb90436142",
   "metadata": {
    "tags": []
   },
   "outputs": [],
   "source": [
    "sess = sagemaker.Session()\n",
    "bucket = sess.default_bucket()\n",
    "region = sess.boto_region_name\n",
    "accountid = sess.account_id()\n",
    "product_db_data_path = 'amazon-reviews-fashion-metadata'\n",
    "bedrock_kb_data_path = 'bedrock-kb-data'\n",
    "bedrock_kb_datasource_uri = f's3://{bucket}/{bedrock_kb_data_path}/'\n",
    "\n",
    "database_identifier = '<TODO>'\n",
    "database_arn = '<TODO>'\n",
    "database_secret_arn = '<TODO>'\n",
    "database_name = '<TODO>'"
   ]
  },
  {
   "cell_type": "markdown",
   "id": "c80216e6-4ef1-4392-92c5-3cb73247e011",
   "metadata": {
    "tags": []
   },
   "source": [
    "## <a id=\"1.1\">1.1 Download and process data<a>"
   ]
  },
  {
   "cell_type": "code",
   "execution_count": null,
   "id": "bb2a4da1-31dc-42f7-8730-29a4be5fae0b",
   "metadata": {
    "tags": []
   },
   "outputs": [],
   "source": [
    "!curl -O https://datarepo.eng.ucsd.edu/mcauley_group/data/amazon_v2/metaFiles2/meta_AMAZON_FASHION.json.gz"
   ]
  },
  {
   "cell_type": "code",
   "execution_count": null,
   "id": "34f1dc28-1b37-4596-b927-27c13d935c20",
   "metadata": {
    "tags": []
   },
   "outputs": [],
   "source": [
    "dataframe = pd.read_json('meta_AMAZON_FASHION.json.gz', lines=True)\n",
    "items = dataframe[\n",
    "    ['asin','title','brand','price','description','imageURLHighRes']\n",
    "].dropna().drop_duplicates(subset='asin').reset_index(drop=True)\n",
    "items = items.rename(columns={'imageURLHighRes': 'image'})\n",
    "items = items[\n",
    "    items[\"title\"].str.contains(\"error\", flags=re.IGNORECASE, regex=True) == False\n",
    "].reset_index(drop=True)\n",
    "items = items[items[\"price\"].str.contains('-') == False].reset_index(drop=True)\n",
    "\n",
    "items['asin'] = items['asin'].map(lambda x: re.sub(r'\\W+', '', x))\n",
    "items['title'] = items['title'].str.replace(\"[^0-9a-zA-Z ]+\",\" \",regex=True)\n",
    "items['description'] = items['description'].astype(str).map(\n",
    "    lambda x: x.strip('({[])}\\'\"\"')\n",
    ").str.replace(\"[^0-9a-zA-Z\\.,\\\"/ ]+\",\" \",regex=True)\n",
    "items['image'] = items['image'].astype(str).map(lambda x: x.strip('({[])}\\'\"'))\n",
    "items['price'] = items['price'].map(lambda x: x.strip('$').replace(',','')).astype(float)\n",
    "\n",
    "# OPTIONAL\n",
    "items.to_csv('items.txt', sep='|', index=False, header=False)\n",
    "# items.to_csv('items.csv')\n",
    "\n",
    "s3_sess = boto3.Session().resource('s3')\n",
    "s3_sess.Bucket(bucket).upload_file('items.txt',f'{product_db_data_path}/items.txt')\n",
    "\n",
    "items"
   ]
  },
  {
   "cell_type": "markdown",
   "id": "9b03a488-7684-487f-b90b-2991781d486d",
   "metadata": {},
   "source": [
    "## <a id=\"1.2\">1.2 Insert data into Aurora PostgreSQL database<a>"
   ]
  },
  {
   "cell_type": "markdown",
   "id": "05c71897-ee59-4621-8784-e555ec6bfe4b",
   "metadata": {},
   "source": [
    "### Prerequisites:\n",
    "- You must have created a database instance, e.g. using [RDS console](https://console.aws.amazon.com/rds/databases) with an admin user and password, and a default database (e.g. postgres)\n",
    "- You must have created a secret to store the database credentials at [AWS Secrets Manager](https://console.aws.amazon.com/secretsmanager/)"
   ]
  },
  {
   "cell_type": "markdown",
   "id": "ff0978aa-80da-4a80-88f2-3ff279821f84",
   "metadata": {},
   "source": [
    "### Create a IAM policies and roles for RDS to import data from S3"
   ]
  },
  {
   "cell_type": "code",
   "execution_count": null,
   "id": "e652a979-90f4-4414-a550-227f4d29b17d",
   "metadata": {
    "tags": []
   },
   "outputs": [],
   "source": [
    "rds_trust_policy = f'''{{\n",
    "    \"Version\": \"2012-10-17\",\n",
    "    \"Statement\": [\n",
    "        {{\n",
    "            \"Sid\": \"\",\n",
    "            \"Effect\": \"Allow\",\n",
    "            \"Principal\": {{\n",
    "                \"Service\": \"rds.amazonaws.com\"\n",
    "            }},\n",
    "            \"Action\": \"sts:AssumeRole\"\n",
    "        }}\n",
    "    ]\n",
    "}}'''\n",
    "featurename = 's3Import'\n",
    "rds_s3_role_name = 'retailai-rds-s3-role'\n",
    "rds_s3_role_description = 'IAM role for RDS to import data from S3'\n",
    "rds_s3_policy_name = 'retailai-rds-s3-import-policy'\n",
    "rds_s3_policy_description = 'IAM policy for RDS to import data from S3'\n",
    "rds_s3_policy_document = f'''{{\n",
    "    \"Version\": \"2012-10-17\",\n",
    "    \"Statement\": [\n",
    "        {{\n",
    "            \"Sid\": \"s3import\",\n",
    "            \"Action\": [\"s3:GetObject\", \"s3:ListBucket\"],\n",
    "            \"Effect\": \"Allow\",\n",
    "            \"Resource\": [\n",
    "                \"arn:aws:s3:::{bucket}\",\n",
    "                \"arn:aws:s3:::{bucket}/*\"\n",
    "            ]\n",
    "        }}\n",
    "    ]\n",
    "}}'''\n",
    "\n",
    "iam = boto3.client('iam')\n",
    "try:\n",
    "    response_policy = iam.create_policy(\n",
    "        PolicyName=rds_s3_policy_name,\n",
    "        PolicyDocument=rds_s3_policy_document,\n",
    "        Description=rds_s3_policy_description,\n",
    "    )\n",
    "except Exception as e:\n",
    "    print('Failed to create policy.', e)\n",
    "\n",
    "try:\n",
    "    response_role = iam.create_role(\n",
    "        RoleName=rds_s3_role_name,\n",
    "        AssumeRolePolicyDocument=rds_trust_policy,\n",
    "        Description=rds_s3_role_description,\n",
    "    )\n",
    "except Exception as e:\n",
    "    print('Failed to create role.', e)\n",
    "\n",
    "try:\n",
    "    response_policy\n",
    "    response_role\n",
    "except Exception as e:\n",
    "    print(e)\n",
    "else:\n",
    "    add_policy = iam.attach_role_policy(\n",
    "        RoleName=rds_s3_role_name,\n",
    "        PolicyArn=response_policy['Policy']['Arn']\n",
    "    )\n",
    "    sleep(5)  # Allow permissions to propagate before attempting to attach\n",
    "\n",
    "    rdsclient = boto3.client('rds')\n",
    "    try:\n",
    "        response_db_role = rdsclient.add_role_to_db_cluster(\n",
    "            DBClusterIdentifier=database_identifier,\n",
    "            RoleArn=response_role['Role']['Arn'],\n",
    "            FeatureName=featurename\n",
    "        )\n",
    "    except Exception as e:\n",
    "        print('Failed to attach role to DB.', e)"
   ]
  },
  {
   "cell_type": "markdown",
   "id": "26022acb-ca01-4887-9c3c-c56584399aac",
   "metadata": {},
   "source": [
    "### Create and run queries to upload data from S3 to RDS"
   ]
  },
  {
   "cell_type": "code",
   "execution_count": null,
   "id": "cb1a08e0-5029-4e11-a80b-c28458c94396",
   "metadata": {
    "tags": []
   },
   "outputs": [],
   "source": [
    "sql_queries = [\n",
    "    \"CREATE EXTENSION IF NOT EXISTS aws_s3 CASCADE;\",\n",
    "    \"DROP TABLE IF EXISTS products;\",\n",
    "    f\"\"\"\n",
    "    CREATE TABLE \"products\" (\n",
    "    \"asin\" VARCHAR(1024) PRIMARY KEY,\n",
    "      \"title\" TEXT,\n",
    "      \"brand\" TEXT,\n",
    "      \"price\" NUMERIC,\n",
    "      \"description\" TEXT,\n",
    "      \"image\" TEXT\n",
    "    );\n",
    "    \"\"\",\n",
    "    f\"\"\"\n",
    "    SELECT aws_s3.table_import_from_s3(\n",
    "    'products',\n",
    "    'asin,title,brand,price,description,image',\n",
    "    'DELIMITER ''|''',\n",
    "    aws_commons.create_s3_uri('{bucket}', '{product_db_data_path}/items.txt', '{region}')\n",
    "    );\n",
    "    \"\"\",\n",
    "]\n",
    "\n",
    "rdsdata = boto3.client('rds-data')\n",
    "\n",
    "for query in sql_queries:\n",
    "    response = rdsdata.execute_statement(\n",
    "        resourceArn=database_arn,\n",
    "        secretArn=database_secret_arn,\n",
    "        sql=query,\n",
    "        database=database_name,\n",
    "    )\n",
    "    print(response)"
   ]
  },
  {
   "cell_type": "markdown",
   "id": "a0f10c3b-e95d-4708-88f4-90f0565879cf",
   "metadata": {},
   "source": [
    "## <a id=\"1.3\">1.3 Create product summaries<a>\n",
    "\n",
    "This section creates a function to summarize longer product descriptions so that the text sent to Bedrock will not be too large to fit into the chunk size limit described [here](https://docs.aws.amazon.com/bedrock/latest/userguide/quotas.html#quotas-kb)."
   ]
  },
  {
   "cell_type": "code",
   "execution_count": null,
   "id": "0fe08f27-2411-4cf0-b99c-84a57647dd37",
   "metadata": {
    "tags": []
   },
   "outputs": [],
   "source": [
    "model_id = \"anthropic.claude-3-haiku-20240307-v1:0\"\n",
    "\n",
    "def generate_product_summary(model_id, input_text, log_level='ERROR'):\n",
    "\n",
    "    accept = \"application/json\"\n",
    "    content_type = \"application/json\"\n",
    "\n",
    "    system_prompt = \"Please output only a useful and search optimized summary of the product description in prose form. Do not output anything else.\"\n",
    "    body = json.dumps({\n",
    "        \"anthropic_version\": \"bedrock-2023-05-31\",\n",
    "        \"max_tokens\": 200,\n",
    "        \"system\": system_prompt,\n",
    "        \"messages\": [\n",
    "          {\n",
    "            \"role\": \"user\",\n",
    "            \"content\": [\n",
    "              {\n",
    "                \"type\": \"text\",\n",
    "                \"text\": str(input_text)\n",
    "              }\n",
    "            ]\n",
    "          }\n",
    "        ]\n",
    "    })\n",
    "\n",
    "    bedrock = boto3.client(service_name='bedrock-runtime')\n",
    "    response = bedrock.invoke_model(body=body, modelId=model_id)\n",
    "    response_body = json.loads(response.get('body').read())['content'][0]['text']\n",
    "\n",
    "    level = logging.getLevelName(log_level)\n",
    "    logging.basicConfig()\n",
    "    logging.getLogger().setLevel(level)\n",
    "    logger = logging.getLogger(__name__)\n",
    "    logger.info(f\"Generating summaries with Claude 3 {model_id}\")\n",
    "\n",
    "    return response_body"
   ]
  },
  {
   "cell_type": "code",
   "execution_count": null,
   "id": "5e764954-d43e-432c-a42e-0cd5ac4d1326",
   "metadata": {
    "scrolled": true,
    "tags": []
   },
   "outputs": [],
   "source": [
    "%%time\n",
    "\n",
    "optim_desc = []\n",
    "total_summaries = sum(items.description.apply(lambda x: 1 if len(str(x)) > 1024 else 0))\n",
    "print(f'Generating a total of {total_summaries} summaries')\n",
    "for i, desc in enumerate(tqdm(items['description'])):\n",
    "    optim_desc.append(generate_product_summary(model_id, desc) if len(str(desc)) > 1024 else desc)\n",
    "    # print(i)"
   ]
  },
  {
   "cell_type": "code",
   "execution_count": null,
   "id": "4328f0a9-9b37-4801-96f9-34f76d8c6a59",
   "metadata": {
    "tags": []
   },
   "outputs": [],
   "source": [
    "items = items.assign(search_description=optim_desc)\n",
    "json_str = items[['title','brand','search_description']].to_json(orient='records')\n",
    "json_obj = json.loads(json_str)\n",
    "len(json_obj)"
   ]
  },
  {
   "cell_type": "markdown",
   "id": "ff8ccd96-b781-42bf-8339-fb4b12ce2628",
   "metadata": {},
   "source": [
    "#### We save each file with the ASIN (uuid) as the file name for easy ingestion and retrieval with Amazon Bedrock Knowledge Base later on. \n",
    "\n",
    "For each file, the text sent to Bedrock must not be too large to fit into the chunk size limit described [here](https://docs.aws.amazon.com/bedrock/latest/userguide/quotas.html#quotas-kb)."
   ]
  },
  {
   "cell_type": "code",
   "execution_count": null,
   "id": "2c5ed5d2-26fd-4d40-a4aa-5c286b6b0e79",
   "metadata": {
    "scrolled": true,
    "tags": []
   },
   "outputs": [],
   "source": [
    "text_list = []\n",
    "\n",
    "for j, json_line in enumerate(tqdm(json_obj)):\n",
    "    text = json.loads(json.dumps(json_line))\n",
    "    print('item {} - title {}'.format(j, text['title']))\n",
    "    asin = items['asin'][j]\n",
    "    text_clean = str(text).replace('\"', \"'\").replace(r'/[^a-zA-Z0-9 ]/g', '')\n",
    "    text_list.append(text_clean)\n",
    "    print('creating entry for ASIN {}'.format(asin))\n",
    "    encoded_string = str(text_clean).encode(\"utf-8\")\n",
    "    s3_sess.Bucket(bucket).put_object(Key=f'{bedrock_kb_data_path}/{asin}.txt', Body=encoded_string)\n",
    "    print('saving item number {}'.format(j))"
   ]
  },
  {
   "cell_type": "code",
   "execution_count": null,
   "id": "3901b3b8-0e5f-4c0d-80e5-379461be1aad",
   "metadata": {
    "tags": []
   },
   "outputs": [],
   "source": [
    "len(text_list)"
   ]
  },
  {
   "cell_type": "markdown",
   "id": "840ff803-0ca6-4bf7-9f69-231e2d8f59f5",
   "metadata": {
    "tags": []
   },
   "source": [
    "## 1.4 <a id=\"1.4\">\\[Optional\\] Create embeddings<a>\n",
    "    \n",
    "This section is provided for you to create your own embeddings for loading into your own vector databases if it is preferred. \n",
    "    \n",
    "It can also serve as a sanity check for the data that will be sent to Bedrock Knowledge Bases, in notebook 2, which would be managing the embedding process for you."
   ]
  },
  {
   "cell_type": "code",
   "execution_count": null,
   "id": "c4cc83d1-7456-48a5-8691-6b50bd1c83b4",
   "metadata": {
    "tags": []
   },
   "outputs": [],
   "source": [
    "# model_id = \"amazon.titan-embed-text-v1\"\n",
    "model_id = 'cohere.embed-english-v3'\n",
    "\n",
    "\n",
    "def generate_embeddings(model_id, input_text, log_level='ERROR'):\n",
    "\n",
    "    accept = \"*/*\"\n",
    "    content_type = \"application/json\"\n",
    "\n",
    "    ### use the following for titan\n",
    "    # Create request body.\n",
    "    # body = json.dumps({\n",
    "    #     \"inputText\": input_text,\n",
    "    # })\n",
    "\n",
    "    ### use the following for cohere\n",
    "    body = json.dumps({\n",
    "        \"texts\": [input_text],\n",
    "        \"input_type\": \"search_document\",\n",
    "        \"truncate\": \"END\"\n",
    "    })\n",
    "\n",
    "    bedrock = boto3.client(service_name='bedrock-runtime')\n",
    "    response = bedrock.invoke_model(\n",
    "        body=body, modelId=model_id, accept=accept, contentType=content_type\n",
    "    )\n",
    "\n",
    "    response_body = json.loads(response.get('body').read())\n",
    "\n",
    "    level = logging.getLevelName(log_level)\n",
    "    logging.basicConfig()\n",
    "    logging.getLogger().setLevel(level)\n",
    "    logger = logging.getLogger(__name__)\n",
    "    logger.info(\"Generating embeddings with %s\", model_id)\n",
    "    logger.info(\"String length %s\", str(len(input_text)))\n",
    "\n",
    "    return response_body"
   ]
  },
  {
   "cell_type": "code",
   "execution_count": null,
   "id": "2936ba29-5f36-4ffb-8152-b3039996d283",
   "metadata": {
    "scrolled": true,
    "tags": []
   },
   "outputs": [],
   "source": [
    "embedding_list = []\n",
    "for i, item in enumerate(tqdm(text_list)):\n",
    "    # print(f'embedding item {i}')\n",
    "    embedding_list.append(generate_embeddings(model_id, item))"
   ]
  },
  {
   "cell_type": "code",
   "execution_count": null,
   "id": "ddbbf121-79e4-472f-a804-d804707112d4",
   "metadata": {
    "tags": []
   },
   "outputs": [],
   "source": [
    "len(embedding_list)"
   ]
  },
  {
   "cell_type": "code",
   "execution_count": null,
   "id": "54dab1c4-861a-4296-9f60-9e65d29482b3",
   "metadata": {},
   "outputs": [],
   "source": [
    "items_embed=items.assign(text_list=text_list,\n",
    "                    embeddings=embedding_list)\n",
    "# items_embed.to_csv('items_embed.txt', sep='|', index=False, header=False)\n",
    "# items_embed.to_csv('items_embed.csv')\n",
    "items_embed"
   ]
  }
 ],
 "metadata": {
  "availableInstances": [
   {
    "_defaultOrder": 0,
    "_isFastLaunch": true,
    "category": "General purpose",
    "gpuNum": 0,
    "hideHardwareSpecs": false,
    "memoryGiB": 4,
    "name": "ml.t3.medium",
    "vcpuNum": 2
   },
   {
    "_defaultOrder": 1,
    "_isFastLaunch": false,
    "category": "General purpose",
    "gpuNum": 0,
    "hideHardwareSpecs": false,
    "memoryGiB": 8,
    "name": "ml.t3.large",
    "vcpuNum": 2
   },
   {
    "_defaultOrder": 2,
    "_isFastLaunch": false,
    "category": "General purpose",
    "gpuNum": 0,
    "hideHardwareSpecs": false,
    "memoryGiB": 16,
    "name": "ml.t3.xlarge",
    "vcpuNum": 4
   },
   {
    "_defaultOrder": 3,
    "_isFastLaunch": false,
    "category": "General purpose",
    "gpuNum": 0,
    "hideHardwareSpecs": false,
    "memoryGiB": 32,
    "name": "ml.t3.2xlarge",
    "vcpuNum": 8
   },
   {
    "_defaultOrder": 4,
    "_isFastLaunch": true,
    "category": "General purpose",
    "gpuNum": 0,
    "hideHardwareSpecs": false,
    "memoryGiB": 8,
    "name": "ml.m5.large",
    "vcpuNum": 2
   },
   {
    "_defaultOrder": 5,
    "_isFastLaunch": false,
    "category": "General purpose",
    "gpuNum": 0,
    "hideHardwareSpecs": false,
    "memoryGiB": 16,
    "name": "ml.m5.xlarge",
    "vcpuNum": 4
   },
   {
    "_defaultOrder": 6,
    "_isFastLaunch": false,
    "category": "General purpose",
    "gpuNum": 0,
    "hideHardwareSpecs": false,
    "memoryGiB": 32,
    "name": "ml.m5.2xlarge",
    "vcpuNum": 8
   },
   {
    "_defaultOrder": 7,
    "_isFastLaunch": false,
    "category": "General purpose",
    "gpuNum": 0,
    "hideHardwareSpecs": false,
    "memoryGiB": 64,
    "name": "ml.m5.4xlarge",
    "vcpuNum": 16
   },
   {
    "_defaultOrder": 8,
    "_isFastLaunch": false,
    "category": "General purpose",
    "gpuNum": 0,
    "hideHardwareSpecs": false,
    "memoryGiB": 128,
    "name": "ml.m5.8xlarge",
    "vcpuNum": 32
   },
   {
    "_defaultOrder": 9,
    "_isFastLaunch": false,
    "category": "General purpose",
    "gpuNum": 0,
    "hideHardwareSpecs": false,
    "memoryGiB": 192,
    "name": "ml.m5.12xlarge",
    "vcpuNum": 48
   },
   {
    "_defaultOrder": 10,
    "_isFastLaunch": false,
    "category": "General purpose",
    "gpuNum": 0,
    "hideHardwareSpecs": false,
    "memoryGiB": 256,
    "name": "ml.m5.16xlarge",
    "vcpuNum": 64
   },
   {
    "_defaultOrder": 11,
    "_isFastLaunch": false,
    "category": "General purpose",
    "gpuNum": 0,
    "hideHardwareSpecs": false,
    "memoryGiB": 384,
    "name": "ml.m5.24xlarge",
    "vcpuNum": 96
   },
   {
    "_defaultOrder": 12,
    "_isFastLaunch": false,
    "category": "General purpose",
    "gpuNum": 0,
    "hideHardwareSpecs": false,
    "memoryGiB": 8,
    "name": "ml.m5d.large",
    "vcpuNum": 2
   },
   {
    "_defaultOrder": 13,
    "_isFastLaunch": false,
    "category": "General purpose",
    "gpuNum": 0,
    "hideHardwareSpecs": false,
    "memoryGiB": 16,
    "name": "ml.m5d.xlarge",
    "vcpuNum": 4
   },
   {
    "_defaultOrder": 14,
    "_isFastLaunch": false,
    "category": "General purpose",
    "gpuNum": 0,
    "hideHardwareSpecs": false,
    "memoryGiB": 32,
    "name": "ml.m5d.2xlarge",
    "vcpuNum": 8
   },
   {
    "_defaultOrder": 15,
    "_isFastLaunch": false,
    "category": "General purpose",
    "gpuNum": 0,
    "hideHardwareSpecs": false,
    "memoryGiB": 64,
    "name": "ml.m5d.4xlarge",
    "vcpuNum": 16
   },
   {
    "_defaultOrder": 16,
    "_isFastLaunch": false,
    "category": "General purpose",
    "gpuNum": 0,
    "hideHardwareSpecs": false,
    "memoryGiB": 128,
    "name": "ml.m5d.8xlarge",
    "vcpuNum": 32
   },
   {
    "_defaultOrder": 17,
    "_isFastLaunch": false,
    "category": "General purpose",
    "gpuNum": 0,
    "hideHardwareSpecs": false,
    "memoryGiB": 192,
    "name": "ml.m5d.12xlarge",
    "vcpuNum": 48
   },
   {
    "_defaultOrder": 18,
    "_isFastLaunch": false,
    "category": "General purpose",
    "gpuNum": 0,
    "hideHardwareSpecs": false,
    "memoryGiB": 256,
    "name": "ml.m5d.16xlarge",
    "vcpuNum": 64
   },
   {
    "_defaultOrder": 19,
    "_isFastLaunch": false,
    "category": "General purpose",
    "gpuNum": 0,
    "hideHardwareSpecs": false,
    "memoryGiB": 384,
    "name": "ml.m5d.24xlarge",
    "vcpuNum": 96
   },
   {
    "_defaultOrder": 20,
    "_isFastLaunch": false,
    "category": "General purpose",
    "gpuNum": 0,
    "hideHardwareSpecs": true,
    "memoryGiB": 0,
    "name": "ml.geospatial.interactive",
    "supportedImageNames": [
     "sagemaker-geospatial-v1-0"
    ],
    "vcpuNum": 0
   },
   {
    "_defaultOrder": 21,
    "_isFastLaunch": true,
    "category": "Compute optimized",
    "gpuNum": 0,
    "hideHardwareSpecs": false,
    "memoryGiB": 4,
    "name": "ml.c5.large",
    "vcpuNum": 2
   },
   {
    "_defaultOrder": 22,
    "_isFastLaunch": false,
    "category": "Compute optimized",
    "gpuNum": 0,
    "hideHardwareSpecs": false,
    "memoryGiB": 8,
    "name": "ml.c5.xlarge",
    "vcpuNum": 4
   },
   {
    "_defaultOrder": 23,
    "_isFastLaunch": false,
    "category": "Compute optimized",
    "gpuNum": 0,
    "hideHardwareSpecs": false,
    "memoryGiB": 16,
    "name": "ml.c5.2xlarge",
    "vcpuNum": 8
   },
   {
    "_defaultOrder": 24,
    "_isFastLaunch": false,
    "category": "Compute optimized",
    "gpuNum": 0,
    "hideHardwareSpecs": false,
    "memoryGiB": 32,
    "name": "ml.c5.4xlarge",
    "vcpuNum": 16
   },
   {
    "_defaultOrder": 25,
    "_isFastLaunch": false,
    "category": "Compute optimized",
    "gpuNum": 0,
    "hideHardwareSpecs": false,
    "memoryGiB": 72,
    "name": "ml.c5.9xlarge",
    "vcpuNum": 36
   },
   {
    "_defaultOrder": 26,
    "_isFastLaunch": false,
    "category": "Compute optimized",
    "gpuNum": 0,
    "hideHardwareSpecs": false,
    "memoryGiB": 96,
    "name": "ml.c5.12xlarge",
    "vcpuNum": 48
   },
   {
    "_defaultOrder": 27,
    "_isFastLaunch": false,
    "category": "Compute optimized",
    "gpuNum": 0,
    "hideHardwareSpecs": false,
    "memoryGiB": 144,
    "name": "ml.c5.18xlarge",
    "vcpuNum": 72
   },
   {
    "_defaultOrder": 28,
    "_isFastLaunch": false,
    "category": "Compute optimized",
    "gpuNum": 0,
    "hideHardwareSpecs": false,
    "memoryGiB": 192,
    "name": "ml.c5.24xlarge",
    "vcpuNum": 96
   },
   {
    "_defaultOrder": 29,
    "_isFastLaunch": true,
    "category": "Accelerated computing",
    "gpuNum": 1,
    "hideHardwareSpecs": false,
    "memoryGiB": 16,
    "name": "ml.g4dn.xlarge",
    "vcpuNum": 4
   },
   {
    "_defaultOrder": 30,
    "_isFastLaunch": false,
    "category": "Accelerated computing",
    "gpuNum": 1,
    "hideHardwareSpecs": false,
    "memoryGiB": 32,
    "name": "ml.g4dn.2xlarge",
    "vcpuNum": 8
   },
   {
    "_defaultOrder": 31,
    "_isFastLaunch": false,
    "category": "Accelerated computing",
    "gpuNum": 1,
    "hideHardwareSpecs": false,
    "memoryGiB": 64,
    "name": "ml.g4dn.4xlarge",
    "vcpuNum": 16
   },
   {
    "_defaultOrder": 32,
    "_isFastLaunch": false,
    "category": "Accelerated computing",
    "gpuNum": 1,
    "hideHardwareSpecs": false,
    "memoryGiB": 128,
    "name": "ml.g4dn.8xlarge",
    "vcpuNum": 32
   },
   {
    "_defaultOrder": 33,
    "_isFastLaunch": false,
    "category": "Accelerated computing",
    "gpuNum": 4,
    "hideHardwareSpecs": false,
    "memoryGiB": 192,
    "name": "ml.g4dn.12xlarge",
    "vcpuNum": 48
   },
   {
    "_defaultOrder": 34,
    "_isFastLaunch": false,
    "category": "Accelerated computing",
    "gpuNum": 1,
    "hideHardwareSpecs": false,
    "memoryGiB": 256,
    "name": "ml.g4dn.16xlarge",
    "vcpuNum": 64
   },
   {
    "_defaultOrder": 35,
    "_isFastLaunch": false,
    "category": "Accelerated computing",
    "gpuNum": 1,
    "hideHardwareSpecs": false,
    "memoryGiB": 61,
    "name": "ml.p3.2xlarge",
    "vcpuNum": 8
   },
   {
    "_defaultOrder": 36,
    "_isFastLaunch": false,
    "category": "Accelerated computing",
    "gpuNum": 4,
    "hideHardwareSpecs": false,
    "memoryGiB": 244,
    "name": "ml.p3.8xlarge",
    "vcpuNum": 32
   },
   {
    "_defaultOrder": 37,
    "_isFastLaunch": false,
    "category": "Accelerated computing",
    "gpuNum": 8,
    "hideHardwareSpecs": false,
    "memoryGiB": 488,
    "name": "ml.p3.16xlarge",
    "vcpuNum": 64
   },
   {
    "_defaultOrder": 38,
    "_isFastLaunch": false,
    "category": "Accelerated computing",
    "gpuNum": 8,
    "hideHardwareSpecs": false,
    "memoryGiB": 768,
    "name": "ml.p3dn.24xlarge",
    "vcpuNum": 96
   },
   {
    "_defaultOrder": 39,
    "_isFastLaunch": false,
    "category": "Memory Optimized",
    "gpuNum": 0,
    "hideHardwareSpecs": false,
    "memoryGiB": 16,
    "name": "ml.r5.large",
    "vcpuNum": 2
   },
   {
    "_defaultOrder": 40,
    "_isFastLaunch": false,
    "category": "Memory Optimized",
    "gpuNum": 0,
    "hideHardwareSpecs": false,
    "memoryGiB": 32,
    "name": "ml.r5.xlarge",
    "vcpuNum": 4
   },
   {
    "_defaultOrder": 41,
    "_isFastLaunch": false,
    "category": "Memory Optimized",
    "gpuNum": 0,
    "hideHardwareSpecs": false,
    "memoryGiB": 64,
    "name": "ml.r5.2xlarge",
    "vcpuNum": 8
   },
   {
    "_defaultOrder": 42,
    "_isFastLaunch": false,
    "category": "Memory Optimized",
    "gpuNum": 0,
    "hideHardwareSpecs": false,
    "memoryGiB": 128,
    "name": "ml.r5.4xlarge",
    "vcpuNum": 16
   },
   {
    "_defaultOrder": 43,
    "_isFastLaunch": false,
    "category": "Memory Optimized",
    "gpuNum": 0,
    "hideHardwareSpecs": false,
    "memoryGiB": 256,
    "name": "ml.r5.8xlarge",
    "vcpuNum": 32
   },
   {
    "_defaultOrder": 44,
    "_isFastLaunch": false,
    "category": "Memory Optimized",
    "gpuNum": 0,
    "hideHardwareSpecs": false,
    "memoryGiB": 384,
    "name": "ml.r5.12xlarge",
    "vcpuNum": 48
   },
   {
    "_defaultOrder": 45,
    "_isFastLaunch": false,
    "category": "Memory Optimized",
    "gpuNum": 0,
    "hideHardwareSpecs": false,
    "memoryGiB": 512,
    "name": "ml.r5.16xlarge",
    "vcpuNum": 64
   },
   {
    "_defaultOrder": 46,
    "_isFastLaunch": false,
    "category": "Memory Optimized",
    "gpuNum": 0,
    "hideHardwareSpecs": false,
    "memoryGiB": 768,
    "name": "ml.r5.24xlarge",
    "vcpuNum": 96
   },
   {
    "_defaultOrder": 47,
    "_isFastLaunch": false,
    "category": "Accelerated computing",
    "gpuNum": 1,
    "hideHardwareSpecs": false,
    "memoryGiB": 16,
    "name": "ml.g5.xlarge",
    "vcpuNum": 4
   },
   {
    "_defaultOrder": 48,
    "_isFastLaunch": false,
    "category": "Accelerated computing",
    "gpuNum": 1,
    "hideHardwareSpecs": false,
    "memoryGiB": 32,
    "name": "ml.g5.2xlarge",
    "vcpuNum": 8
   },
   {
    "_defaultOrder": 49,
    "_isFastLaunch": false,
    "category": "Accelerated computing",
    "gpuNum": 1,
    "hideHardwareSpecs": false,
    "memoryGiB": 64,
    "name": "ml.g5.4xlarge",
    "vcpuNum": 16
   },
   {
    "_defaultOrder": 50,
    "_isFastLaunch": false,
    "category": "Accelerated computing",
    "gpuNum": 1,
    "hideHardwareSpecs": false,
    "memoryGiB": 128,
    "name": "ml.g5.8xlarge",
    "vcpuNum": 32
   },
   {
    "_defaultOrder": 51,
    "_isFastLaunch": false,
    "category": "Accelerated computing",
    "gpuNum": 1,
    "hideHardwareSpecs": false,
    "memoryGiB": 256,
    "name": "ml.g5.16xlarge",
    "vcpuNum": 64
   },
   {
    "_defaultOrder": 52,
    "_isFastLaunch": false,
    "category": "Accelerated computing",
    "gpuNum": 4,
    "hideHardwareSpecs": false,
    "memoryGiB": 192,
    "name": "ml.g5.12xlarge",
    "vcpuNum": 48
   },
   {
    "_defaultOrder": 53,
    "_isFastLaunch": false,
    "category": "Accelerated computing",
    "gpuNum": 4,
    "hideHardwareSpecs": false,
    "memoryGiB": 384,
    "name": "ml.g5.24xlarge",
    "vcpuNum": 96
   },
   {
    "_defaultOrder": 54,
    "_isFastLaunch": false,
    "category": "Accelerated computing",
    "gpuNum": 8,
    "hideHardwareSpecs": false,
    "memoryGiB": 768,
    "name": "ml.g5.48xlarge",
    "vcpuNum": 192
   },
   {
    "_defaultOrder": 55,
    "_isFastLaunch": false,
    "category": "Accelerated computing",
    "gpuNum": 8,
    "hideHardwareSpecs": false,
    "memoryGiB": 1152,
    "name": "ml.p4d.24xlarge",
    "vcpuNum": 96
   },
   {
    "_defaultOrder": 56,
    "_isFastLaunch": false,
    "category": "Accelerated computing",
    "gpuNum": 8,
    "hideHardwareSpecs": false,
    "memoryGiB": 1152,
    "name": "ml.p4de.24xlarge",
    "vcpuNum": 96
   },
   {
    "_defaultOrder": 57,
    "_isFastLaunch": false,
    "category": "Accelerated computing",
    "gpuNum": 0,
    "hideHardwareSpecs": false,
    "memoryGiB": 32,
    "name": "ml.trn1.2xlarge",
    "vcpuNum": 8
   },
   {
    "_defaultOrder": 58,
    "_isFastLaunch": false,
    "category": "Accelerated computing",
    "gpuNum": 0,
    "hideHardwareSpecs": false,
    "memoryGiB": 512,
    "name": "ml.trn1.32xlarge",
    "vcpuNum": 128
   },
   {
    "_defaultOrder": 59,
    "_isFastLaunch": false,
    "category": "Accelerated computing",
    "gpuNum": 0,
    "hideHardwareSpecs": false,
    "memoryGiB": 512,
    "name": "ml.trn1n.32xlarge",
    "vcpuNum": 128
   }
  ],
  "instance_type": "ml.t3.medium",
  "kernelspec": {
   "display_name": "Python 3 (ipykernel)",
   "language": "python",
   "name": "python3"
  },
  "language_info": {
   "codemirror_mode": {
    "name": "ipython",
    "version": 3
   },
   "file_extension": ".py",
   "mimetype": "text/x-python",
   "name": "python",
   "nbconvert_exporter": "python",
   "pygments_lexer": "ipython3",
   "version": "3.10.13"
  }
 },
 "nbformat": 4,
 "nbformat_minor": 5
}
